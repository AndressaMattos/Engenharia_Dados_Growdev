{
  "nbformat": 4,
  "nbformat_minor": 0,
  "metadata": {
    "colab": {
      "provenance": [],
      "authorship_tag": "ABX9TyOX0Ii0XiSFehTtQ7IZqhNx",
      "include_colab_link": true
    },
    "kernelspec": {
      "name": "python3",
      "display_name": "Python 3"
    },
    "language_info": {
      "name": "python"
    }
  },
  "cells": [
    {
      "cell_type": "markdown",
      "metadata": {
        "id": "view-in-github",
        "colab_type": "text"
      },
      "source": [
        "<a href=\"https://colab.research.google.com/github/AndressaMattos/Engenharia_Dados_Growdev/blob/main/Aula_2_Atividade.ipynb\" target=\"_parent\"><img src=\"https://colab.research.google.com/assets/colab-badge.svg\" alt=\"Open In Colab\"/></a>"
      ]
    },
    {
      "cell_type": "markdown",
      "source": [
        "1 - Conversão de graus Celsius para Fahrenheit – Crie um programa que converta graus\n",
        "Celsius em Fahrenheit. A fórmula é a seguinte:\n",
        "\n",
        "F = 9\n",
        "— C + 32\n",
        "5\n",
        "\n",
        "O programa deve solicitar ao usuário que insira uma temperatura em graus Celsius e, em\n",
        "seguida, exiba a temperatura convertida em Fahrenheit. Após construir esse programa,\n",
        "modifique-o para que converta graus Fahrenheit em graus Celsius."
      ],
      "metadata": {
        "id": "SU8dlLFVZ-sf"
      }
    },
    {
      "cell_type": "code",
      "source": [
        "graus_celsius = float(input('Infoem a temperatura em Celsius:'))\n",
        "graus_fahrenheit = 1.8 * graus_celsius +32\n",
        "\n",
        "print (f'{graus_celsius} C = {graus_fahrenheit} F')"
      ],
      "metadata": {
        "colab": {
          "base_uri": "https://localhost:8080/"
        },
        "id": "Gk15zCr5aDgl",
        "outputId": "66e14feb-66b6-4f93-d31b-2d4b6c3494f9"
      },
      "execution_count": 1,
      "outputs": [
        {
          "output_type": "stream",
          "name": "stdout",
          "text": [
            "Infoem a temperatura em Celsius:37\n",
            "37.0 C = 98.60000000000001 F\n"
          ]
        }
      ]
    },
    {
      "cell_type": "markdown",
      "source": [
        "2- Escreva um programa que receba um número e escreva “Par” caso esse número seja par\n",
        "e escreva “Impar” caso esse número seja impar."
      ],
      "metadata": {
        "id": "zVXd8pY-cAHy"
      }
    },
    {
      "cell_type": "code",
      "source": [
        "numero = int(input('Informe um número:'))\n",
        "\n",
        "\n",
        "if numero%2 == 0:\n",
        "  print(f'O número é par')\n",
        "else:\n",
        "  print(f'O número é ímpar')"
      ],
      "metadata": {
        "colab": {
          "base_uri": "https://localhost:8080/"
        },
        "id": "KhvXhPbZb_25",
        "outputId": "4c00d774-8685-4078-b4bb-77396937332c"
      },
      "execution_count": 2,
      "outputs": [
        {
          "output_type": "stream",
          "name": "stdout",
          "text": [
            "Infoem a temperatura em Celsius:5\n",
            "O número é ímpar\n"
          ]
        }
      ]
    },
    {
      "cell_type": "markdown",
      "source": [
        "3 - Escreva um programa que receba dois números, exiba as opções:\n",
        "1 - adição\n",
        "2 - subtração\n",
        "Então peça ao usuário para escolher uma das opções. Caso escolha a opção 1 o programa\n",
        "deve realizar a soma dos dois números lidos e exibir. Caso escolha a opção 2 o programa\n",
        "deve realizar a subtração dos dois números lidos e exibir."
      ],
      "metadata": {
        "id": "sNvEEU4QcJVf"
      }
    },
    {
      "cell_type": "code",
      "source": [
        "numero_1 = int(input('Informe um número: '))\n",
        "numero_2 = int(input('Informe outro número: '))\n",
        "escolha = int(input('Escolha a operação: \\n 1 - Adição \\n 2 - Subtração \\n'))\n",
        "\n",
        "\n",
        "if escolha ==  '1':\n",
        "  print(f'{numero_1 + numero_2}')\n",
        "else:\n",
        "  print(f'{numero_1 - numero_2}')\n"
      ],
      "metadata": {
        "colab": {
          "base_uri": "https://localhost:8080/"
        },
        "id": "ILLfdCLeb_71",
        "outputId": "ff1b37ba-dd30-4497-85b7-5688bec7585c"
      },
      "execution_count": 3,
      "outputs": [
        {
          "output_type": "stream",
          "name": "stdout",
          "text": [
            "Informe um número: 10\n",
            "Informe outro número: 5\n",
            "Escolha a operação: \n",
            " 1 - Adição \n",
            " 2 - Subtração1\n",
            "5\n"
          ]
        }
      ]
    },
    {
      "cell_type": "markdown",
      "source": [
        "4 - Numa determinada escola, os critérios de aprovação são os seguintes:\n",
        "- O aluno deve ter, no máximo, 25% de faltas;\n",
        "- A nota final deve ser igual ou superior a 7,00.\n",
        "Construa um programa para ler as notas que um aluno tirou nos 4 bimestres, o número total\n",
        "de aulas e o número de faltas, mostrando ao final a situação do aluno como sendo\n",
        "“Aprovado”, “Reprovado por Faltas” e “Reprovado por média”, considerando que a\n",
        "reprovação por faltas se sobrepõe a reprovação por nota."
      ],
      "metadata": {
        "id": "ErYZ2w7BcO4p"
      }
    },
    {
      "cell_type": "code",
      "execution_count": 10,
      "metadata": {
        "colab": {
          "base_uri": "https://localhost:8080/"
        },
        "id": "Jnv1eOZLZxOf",
        "outputId": "3f82e233-b79c-4dc1-9dce-6c3ac12926fb"
      },
      "outputs": [
        {
          "output_type": "stream",
          "name": "stdout",
          "text": [
            "Informe a frequência do aluno:80\n",
            "Informe a 1 nota do aluno:10\n",
            "Informe a 2 nota do aluno:8\n",
            "Informe a 3 nota do aluno:7\n",
            "Informe a 4 nota do aluno:5\n",
            "Aprovado\n"
          ]
        }
      ],
      "source": [
        "soma_notas = 0\n",
        "frequencia = int(input(f'Informe a frequência do aluno:'))\n",
        "\n",
        "for i in range(1,5,1):\n",
        "  nota = float(input(f'Informe a {i} nota do aluno:'))\n",
        "  soma_notas = soma_notas + nota\n",
        "\n",
        "media = soma_notas/4\n",
        "\n",
        "if frequencia > 75 and media >= 7:\n",
        "  print(f'Aprovado')\n",
        "else:\n",
        "  if frequencia <= 25:\n",
        "    print(f'Reprovado por Faltas')\n",
        "  else:\n",
        "    print(f'Reprovado por média {media}')"
      ]
    },
    {
      "cell_type": "markdown",
      "source": [
        "5 - Após construir o programa anterior, crie mais duas versões dele para prever as seguintes\n",
        "situações:\n",
        "- Um aluno pode ficar em recuperação se possuir frequência suficiente (superior a\n",
        "75%) e média superior a 5 mas inferior a 7;\n",
        "- Caso um aluno reprove por média e faltas, sua situação deve ser “Reprovado por\n",
        "Média e Faltas” (ao invés de simplesmente “Reprovado por Faltas” como antes)."
      ],
      "metadata": {
        "id": "ZcGco4h7cUNh"
      }
    },
    {
      "cell_type": "code",
      "source": [
        "soma_notas = 0\n",
        "frequencia = int(input(f'Informe a frequência do aluno:'))\n",
        "\n",
        "for i in range(1,5,1):\n",
        "  nota = float(input(f'Informe a {i} nota do aluno:'))\n",
        "  soma_notas = soma_notas + nota\n",
        "\n",
        "media = soma_notas/4\n",
        "\n",
        "if frequencia > 75 and media >= 7:\n",
        "  print(f'Aprovado')\n",
        "elif frequencia < 75 and media < 7:\n",
        "  print(f'Reprovado por média {media} e Falta')\n",
        "elif frequencia <= 75:\n",
        "    print(f'Reprovado por Faltas')\n",
        "elif media >= 7 :\n",
        "    print(f'Reprovado por média {media}')\n"
      ],
      "metadata": {
        "id": "-cgvTPiqcAov"
      },
      "execution_count": null,
      "outputs": []
    },
    {
      "cell_type": "markdown",
      "source": [
        "6 - Escreva um programa que peça ao usuário para fornecer um dia, mês e o ano arbitrários\n",
        "e determine se esses dados correspondem a uma data válida. Não deixe de considerar que\n",
        "existem meses com 30 e 31 dias, e que fevereiro pode ter 28 ou 29 dias, dependendo se o\n",
        "ano for bissexto. Considere que um ano é bissexto quando for divisível por 4.\n"
      ],
      "metadata": {
        "id": "0GeE2VTmcZxo"
      }
    },
    {
      "cell_type": "code",
      "source": [
        "dia = int(input(f'Informe um dia: '))\n",
        "mes = int(input(f'Informe um mês: '))\n",
        "ano = int(input(f'Informe um ano: '))\n",
        "\n",
        "\n",
        "if dia >= 1 and dia <= 31:\n",
        "  if mes >=1 and mes<=12:\n",
        "      if mes in (4,6,9,11) and dia >30:\n",
        "        print('1 Data inválida!')\n",
        "      elif ano%4 == 0 and mes == 2 and dia >29:\n",
        "        print('2 Data inválida!')\n",
        "      elif  ano%4 != 0 and mes == 2 and dia >28:\n",
        "        print('3 Data inválida!')\n",
        "      else:\n",
        "        print('2 Data válida!')\n",
        "  else:\n",
        "        print('Data inválida!')\n",
        "else:\n",
        "        print('Data inválida!')\n",
        "\n",
        "\n"
      ],
      "metadata": {
        "colab": {
          "base_uri": "https://localhost:8080/"
        },
        "id": "2GXYdc-otTHn",
        "outputId": "3195477f-89f3-4962-c03e-8b8031a5095a"
      },
      "execution_count": 26,
      "outputs": [
        {
          "output_type": "stream",
          "name": "stdout",
          "text": [
            "Informe um dia: 30\n",
            "Informe um mês: 3\n",
            "Informe um ano: 2001\n",
            "2 Data válida!\n"
          ]
        }
      ]
    },
    {
      "cell_type": "markdown",
      "source": [
        "7- Construa um programa que leia uma data qualquer (dia, mês e ano) e calcule a data do\n",
        "próximo dia. Lembre-se que em anos bissextos o mês de fevereiro tem 29 dias. Lembre-se\n",
        "que um ano é bissexto quando for divisível por 4.\n"
      ],
      "metadata": {
        "id": "SPapS0WZcp6M"
      }
    },
    {
      "cell_type": "code",
      "source": [
        "dia = int(input(f'Informe um dia: '))\n",
        "mes = int(input(f'Informe um mês: '))\n",
        "ano = int(input(f'Informe um ano: '))\n",
        "\n",
        "if dia >= 1 and dia <= 31:\n",
        "  if mes >=1 and mes<=12:\n",
        "      if mes in (4,6,9,11) and dia >30:\n",
        "        print('1 Data inválida!')\n",
        "      elif ano%4 == 0 and mes == 2 and dia >29:\n",
        "        print('2 Data inválida!')\n",
        "      elif  ano%4 != 0 and mes == 2 and dia >28:\n",
        "        print('3 Data inválida!')\n",
        "      else:\n",
        "        print('2 Data válida!')\n",
        "\n",
        "        #calculando próximo dia!\n",
        "\n",
        "        #Meses 4 6 9 11\n",
        "        if mes in (4,6,9,11) and dia <=29:\n",
        "          if dia <=29:\n",
        "            novo_dia = dia + 1\n",
        "            print(f'Novo dia: {novo_dia} / {mes} / {ano}')\n",
        "          elif dia == 30:\n",
        "            novo_dia =  1\n",
        "            novo_mes = mes+1\n",
        "            print(f'Novo dia: {novo_dia} / {novo_mes} / {ano}')\n",
        "          elif dia == 29:\n",
        "            novo_dia =  1\n",
        "            novo_mes = mes+1\n",
        "            print(f'Novo dia: {novo_dia} / {novo_mes} / {ano}')\n",
        "\n",
        "        #ANO BISSEXTO\n",
        "        elif ano%4 == 0 and mes == 2:\n",
        "          if dia <=28:\n",
        "            novo_dia = dia + 1\n",
        "            print(f'Novo dia: {novo_dia} / {mes} / {ano}')\n",
        "          elif dia == 29:\n",
        "            novo_dia =  1\n",
        "            novo_mes = mes+1\n",
        "            print(f'Novo dia: {novo_dia} / {novo_mes} / {ano}')\n",
        "\n",
        "        #ANO NÃO BISSEXTO\n",
        "        elif ano%4 != 0 and mes == 2:\n",
        "          if dia < 28:\n",
        "            novo_dia = dia + 1\n",
        "            print(f'Novo dia: {novo_dia} / {mes} / {ano}')\n",
        "          elif dia == 28:\n",
        "            novo_dia =  1\n",
        "            novo_mes = mes+1\n",
        "            print(f'Novo dia: {novo_dia} / {novo_mes} / {ano}')\n",
        "\n",
        "      #NOVO ANO\n",
        "\n",
        "      #RESTO DOS MESES\n",
        "\n",
        "  else:\n",
        "        print('Data inválida!')\n",
        "else:\n",
        "        print('Data inválida!')\n"
      ],
      "metadata": {
        "id": "ipITuI0XiXW1"
      },
      "execution_count": null,
      "outputs": []
    },
    {
      "cell_type": "markdown",
      "source": [
        "8 - Faça um programa que leia as duas notas parciais obtidas por um aluno numa\n",
        "disciplina ao longo de um semestre, e calcule a sua média. A atribuição de conceitos\n",
        "obedece à tabela abaixo:\n",
        "Média de Aproveitamento\n",
        "- Entre 9.0 e 10.0 Conceito - A\n",
        "- Entre 7.5 e 8.9 - B\n",
        "- Entre 6.0 e 7.4 - C\n",
        "- Entre 4.0 e 5.9 - D\n",
        "- Entre 0 e 3.9 - E\n",
        "\n",
        "O programa deve mostrar na tela as notas, a média, o conceito correspondente e a\n",
        "mensagem:\n",
        "APROVADO se o conceito for A, B ou C.\n",
        "REPROVADO se o conceito for D ou E."
      ],
      "metadata": {
        "id": "tgMOHnkZcq_x"
      }
    },
    {
      "cell_type": "code",
      "source": [
        "soma_notas = 0\n",
        "notas =[]\n",
        "\n",
        "for i in range(1,5,1):\n",
        "  nota = float(input(f'Informe a {i} nota do aluno:'))\n",
        "  soma_notas = soma_notas + nota\n",
        "  notas.append(nota)\n",
        "\n",
        "media = soma_notas/4\n",
        "print(f'{notas}')\n",
        "\n",
        "\n",
        "if  media >= 9 and media <=10:\n",
        "  print(f'Aprovado (a) -> Conceito - A {media}')\n",
        "elif  media >= 7.5 and media <=8.9:\n",
        "  print(f'Aprovado (a) -> Conceito - B {media}')\n",
        "elif  media >= 6 and media <=7.4:\n",
        "  print(f'Aprovado (a) -> Conceito - c {media}')\n",
        "elif  media >= 4 and media <=5.9:\n",
        "  print(f'REPROVADO (a) -> Conceito - D {media}')\n",
        "elif  media >= 0 and media <=3.9:\n",
        "  print(f'REPROVADO (a) -> Conceito - E {media}')"
      ],
      "metadata": {
        "colab": {
          "base_uri": "https://localhost:8080/"
        },
        "id": "24qSkXQYiZgM",
        "outputId": "298a6a0c-13c9-4eba-b2ea-8f9456da518e"
      },
      "execution_count": 15,
      "outputs": [
        {
          "output_type": "stream",
          "name": "stdout",
          "text": [
            "Informe a 1 nota do aluno:10\n",
            "Informe a 2 nota do aluno:8\n",
            "Informe a 3 nota do aluno:9\n",
            "Informe a 4 nota do aluno:7\n",
            "[10.0, 8.0, 9.0, 7.0]\n",
            "Aprovado (a) -> Conceito - B 8.5\n"
          ]
        }
      ]
    },
    {
      "cell_type": "markdown",
      "source": [
        "9 - As Organizações XTC resolveram dar um aumento de salário aos seus colaboradores e\n",
        "lhe contrataram para desenvolver o programa que calcula os reajustes. Faça um programa\n",
        "que recebe o salário de um colaborador e o reajuste segundo o seguinte critério, baseado\n",
        "no salário atual:\n",
        "- salários até R$ 280,00 (incluindo): aumento de 20%\n",
        "\n",
        "- salários entre R$ 280,00 e R$ 700,00: aumento de 15%\n",
        "\n",
        "- salários entre R$ 700,00 e R$ 1500,00: aumento de 10%\n",
        "\n",
        "- salários de R$ 1500,00 em diante: aumento de 5%\n",
        "\n",
        "Após o aumento ser realizado informe na tela:\n",
        "- o salário antes do reajuste;\n",
        "- o percentual de aumento aplicado;\n",
        "- o valor do aumento;\n",
        "- o novo salário, após o aumento."
      ],
      "metadata": {
        "id": "QY7hITcOcrgy"
      }
    },
    {
      "cell_type": "code",
      "source": [
        "salario = float(input(f'Informe o seu salário:'))\n",
        "novo_salario = 0\n",
        "percentual = 0\n",
        "valor_aumento = 0\n",
        "\n",
        "if  salario <= 280:\n",
        "  percentual = 20\n",
        "elif  salario > 280 and salario < 700:\n",
        "  percentual = 15\n",
        "elif  salario >= 700 and salario < 1500:\n",
        "  percentual = 10\n",
        "elif  salario >= 1500:\n",
        "  percentual = 5\n",
        "\n",
        "valor_aumento = salario*(percentual/100)\n",
        "novo_salario = salario + valor_aumento\n",
        "\n",
        "\n",
        "print(f'Salário anterior: {salario} \\n Valor do Aumento = {valor_aumento} \\n Percentual = {percentual} \\n Novo salário = {novo_salario}')"
      ],
      "metadata": {
        "colab": {
          "base_uri": "https://localhost:8080/"
        },
        "id": "Ho-42X_go2UE",
        "outputId": "b32c18dd-af7d-444a-898e-ac51dc668ea9"
      },
      "execution_count": 16,
      "outputs": [
        {
          "output_type": "stream",
          "name": "stdout",
          "text": [
            "Informe o seu salário:280\n",
            "Salário anterior: 280.0 \n",
            " Valor do Aumento = 56.0 \n",
            " Percentual = 20 \n",
            " Novo salário = 280.0\n"
          ]
        }
      ]
    }
  ]
}