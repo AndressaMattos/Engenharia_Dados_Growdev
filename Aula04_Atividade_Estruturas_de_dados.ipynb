{
  "nbformat": 4,
  "nbformat_minor": 0,
  "metadata": {
    "colab": {
      "provenance": [],
      "include_colab_link": true
    },
    "kernelspec": {
      "name": "python3",
      "display_name": "Python 3"
    },
    "language_info": {
      "name": "python"
    }
  },
  "cells": [
    {
      "cell_type": "markdown",
      "metadata": {
        "id": "view-in-github",
        "colab_type": "text"
      },
      "source": [
        "<a href=\"https://colab.research.google.com/github/AndressaMattos/Engenharia_Dados_Growdev/blob/main/Aula04_Atividade_Estruturas_de_dados.ipynb\" target=\"_parent\"><img src=\"https://colab.research.google.com/assets/colab-badge.svg\" alt=\"Open In Colab\"/></a>"
      ]
    },
    {
      "cell_type": "markdown",
      "source": [
        "![Growdev](https://www.growdev.com.br/assets/images/logo_growdev.png)"
      ],
      "metadata": {
        "id": "v8pFWwviib2C"
      }
    },
    {
      "cell_type": "markdown",
      "source": [
        "![Formação Engenharia de Dados](https://d335luupugsy2.cloudfront.net/cms/files/524558/1707226566/$occu5m8t1op)"
      ],
      "metadata": {
        "id": "6Tkl4_HxifXZ"
      }
    },
    {
      "cell_type": "markdown",
      "source": [
        "Este material tem como objetivo incentivar a prática dos conteúdos estudados até o momento, e a pesquisa. Tenha em consideração que o exercício foi pensado para incentivar a prática dos conteúdos estudados até então, porém aprender a pesquisar faz parte do processo de aprendizagem.\n",
        "\n",
        "Fique tranquilo, faça os exercícios com calma, e boa prática!\n"
      ],
      "metadata": {
        "id": "ty7Bzyl1i9bN"
      }
    },
    {
      "cell_type": "markdown",
      "source": [
        "#Orientações:\n",
        "\n",
        " - Faça uma copia deste arquivo\n",
        " - Após concluir os exercicios, suba seu exercicio para o GitHub e compartilhe o link no **google** Classroom\n"
      ],
      "metadata": {
        "id": "DU5-yCQwjx3V"
      }
    },
    {
      "cell_type": "markdown",
      "source": [
        "#Exercícios"
      ],
      "metadata": {
        "id": "EzT810tnlmfE"
      }
    },
    {
      "cell_type": "markdown",
      "source": [],
      "metadata": {
        "id": "sJsSlDyJ092q"
      }
    },
    {
      "cell_type": "markdown",
      "source": [
        "#Listas"
      ],
      "metadata": {
        "id": "rDqBAimhSq_C"
      }
    },
    {
      "cell_type": "markdown",
      "source": [
        "Para esse exercicio você tera alguns desafios, separei eles em partes, vamos lá?\n",
        "\n",
        "1 - Crie uma lista com 100 números inteiros.\n",
        "- Pode ser uma sequência, ou caso queira se desafiar faça de números aleatorios.\n",
        "- Os dados não devem ser inseridos manualmente, utilize de um laço de repetição para adicionar os elementos a Lista.\n"
      ],
      "metadata": {
        "id": "GoGkz2n-SudC"
      }
    },
    {
      "cell_type": "code",
      "source": [
        "import random\n",
        "\n",
        "minha_lista = []\n",
        "\n",
        "#Criando lista\n",
        "\n",
        "while len(minha_lista) <100:\n",
        "  numero_aleatorio = int(random.randint(1,100))\n",
        "  minha_lista.append(numero_aleatorio)\n",
        "\n",
        "\n",
        "print(f'A lista criada possui {len(minha_lista)} números:')\n",
        "\n",
        "print(minha_lista)\n",
        "\n",
        "\n",
        "\n"
      ],
      "metadata": {
        "id": "lLYBJr0KSuJW",
        "colab": {
          "base_uri": "https://localhost:8080/"
        },
        "outputId": "4c60a589-c4a8-4993-ac47-12f2ce398973"
      },
      "execution_count": 16,
      "outputs": [
        {
          "output_type": "stream",
          "name": "stdout",
          "text": [
            "A lista criada possui 100 números:\n",
            "[75, 58, 61, 48, 51, 61, 18, 44, 25, 32, 76, 68, 68, 22, 13, 14, 66, 75, 94, 91, 23, 41, 3, 84, 33, 72, 20, 35, 6, 59, 67, 30, 5, 59, 79, 85, 39, 54, 27, 52, 34, 78, 51, 82, 61, 34, 77, 46, 39, 43, 42, 82, 51, 1, 9, 32, 77, 5, 79, 61, 84, 6, 58, 76, 60, 80, 66, 57, 40, 41, 60, 34, 4, 60, 13, 49, 86, 88, 2, 71, 72, 48, 68, 66, 86, 65, 8, 80, 17, 10, 55, 25, 68, 37, 30, 62, 40, 37, 44, 54]\n"
          ]
        }
      ]
    },
    {
      "cell_type": "markdown",
      "source": [
        "2 - Calcule e exiba a soma de todos os números da lista."
      ],
      "metadata": {
        "id": "LQ0SVqxyVTD5"
      }
    },
    {
      "cell_type": "code",
      "source": [
        "print(f'A soma de todos os elementos é: {sum(minha_lista)}')"
      ],
      "metadata": {
        "id": "6HP8yU1bVS0F",
        "colab": {
          "base_uri": "https://localhost:8080/"
        },
        "outputId": "1ae49b4b-1adf-4638-8a9c-e65dfd3c8ebf"
      },
      "execution_count": 17,
      "outputs": [
        {
          "output_type": "stream",
          "name": "stdout",
          "text": [
            "A soma de todos os elementos é: 4924\n"
          ]
        }
      ]
    },
    {
      "cell_type": "markdown",
      "source": [
        "3 - Exiba o maior e o menor número da lista."
      ],
      "metadata": {
        "id": "HYQGLklTTPMx"
      }
    },
    {
      "cell_type": "code",
      "source": [
        "print(f'O maior elemento é {max(minha_lista)} e o menor elemento é {min(minha_lista)}')"
      ],
      "metadata": {
        "id": "q_UZx7EETT6S",
        "colab": {
          "base_uri": "https://localhost:8080/"
        },
        "outputId": "9ff88c43-2391-4f12-fcab-52f10e1f9231"
      },
      "execution_count": 18,
      "outputs": [
        {
          "output_type": "stream",
          "name": "stdout",
          "text": [
            "O maior elemento é 94 e o menor elemento é 1\n"
          ]
        }
      ]
    },
    {
      "cell_type": "markdown",
      "source": [
        "4 - Pesquise se o número 77 esta presente na lista e exiba:\n",
        "- Quantas vezes esse número aparece na lista\n",
        "- Se aparece em qual ou quais posições(Indice)."
      ],
      "metadata": {
        "id": "1iU6ZtRhVN9i"
      }
    },
    {
      "cell_type": "code",
      "source": [
        "count = 0\n",
        "lista_posicoes = []\n",
        "\n",
        "for i in range(len(minha_lista)):\n",
        "  if minha_lista[i] == 77:\n",
        "    count += 1\n",
        "    lista_posicoes.append(i)\n",
        "\n",
        "print(f'O número 77 aparece {count} vezes na lista')\n",
        "print(f'O número 77 aparece nas posições {lista_posicoes}' )"
      ],
      "metadata": {
        "id": "OGVH4AoGWU2R",
        "colab": {
          "base_uri": "https://localhost:8080/"
        },
        "outputId": "9604d313-1e5e-4423-b76d-993ce337ad93"
      },
      "execution_count": 25,
      "outputs": [
        {
          "output_type": "stream",
          "name": "stdout",
          "text": [
            "O número 77 aparece 2 vezes na lista\n",
            "O número 77 aparece nas posições [15, 16]\n"
          ]
        }
      ]
    },
    {
      "cell_type": "markdown",
      "source": [
        "5 - Ordene a lista de forma descendente e exiba."
      ],
      "metadata": {
        "id": "jrwycUMvWVSu"
      }
    },
    {
      "cell_type": "code",
      "source": [
        "minha_lista.sort(reverse=True)\n",
        "print(f'Lista ordenada: {minha_lista}')"
      ],
      "metadata": {
        "id": "RvRpLp87e5CB",
        "colab": {
          "base_uri": "https://localhost:8080/"
        },
        "outputId": "ce1d50bb-b44a-4e8a-e84d-47f9fe11de66"
      },
      "execution_count": 29,
      "outputs": [
        {
          "output_type": "stream",
          "name": "stdout",
          "text": [
            "Lista ordenada: [94, 91, 88, 86, 86, 85, 84, 84, 82, 82, 80, 80, 79, 79, 78, 77, 77, 76, 76, 75, 75, 72, 72, 71, 68, 68, 68, 68, 67, 66, 66, 66, 65, 62, 61, 61, 61, 61, 60, 60, 60, 59, 59, 58, 58, 57, 55, 54, 54, 52, 51, 51, 51, 49, 48, 48, 46, 44, 44, 43, 42, 41, 41, 40, 40, 39, 39, 37, 37, 35, 34, 34, 34, 33, 32, 32, 30, 30, 27, 25, 25, 23, 22, 20, 18, 17, 14, 13, 13, 10, 9, 8, 6, 6, 5, 5, 4, 3, 2, 1]\n"
          ]
        }
      ]
    },
    {
      "cell_type": "markdown",
      "source": [
        "## Tuplas:"
      ],
      "metadata": {
        "id": "Be68CsC2OftE"
      }
    },
    {
      "cell_type": "markdown",
      "source": [
        "Crie uma tupla com os dias da semana e peça para o usuário digitar um número de 1 a 7. Exiba o dia correspondente."
      ],
      "metadata": {
        "id": "SQzRrAmq1SnR"
      }
    },
    {
      "cell_type": "code",
      "source": [
        "semana = ('Segunda-feira', 'Terça-feira', 'Quarta-feira', 'Quinta-feira', 'Sexta-feira', 'Sábado', 'Domingo')\n",
        "\n",
        "dia = int(input('Digite um número de 1 a 7: '))\n",
        "print(f'O dia escolhido foi {semana[dia-1]}')"
      ],
      "metadata": {
        "colab": {
          "base_uri": "https://localhost:8080/"
        },
        "id": "4nzGhfZ9Vcll",
        "outputId": "b930eed0-c052-472d-b942-2eb5c5d9a92f"
      },
      "execution_count": 32,
      "outputs": [
        {
          "output_type": "stream",
          "name": "stdout",
          "text": [
            "Digite um número de 1 a 7: 1\n",
            "O dia escolhido foi Segunda-feira\n"
          ]
        }
      ]
    },
    {
      "cell_type": "markdown",
      "source": [
        "Crie duas tuplas com números inteiros e crie uma terceira tupla com a concatenação das duas."
      ],
      "metadata": {
        "id": "J9LW9fru7hv6"
      }
    },
    {
      "cell_type": "code",
      "source": [
        "tupla1 = (1,2,3,4,5)\n",
        "tupla2 = (6,7,8,9,10)\n",
        "tupla3 = tupla1 + tupla2\n",
        "print(tupla3)"
      ],
      "metadata": {
        "colab": {
          "base_uri": "https://localhost:8080/"
        },
        "id": "i2yrc7JIVhYv",
        "outputId": "124afe73-25e4-4c33-b80f-fb2371fdcc34"
      },
      "execution_count": 33,
      "outputs": [
        {
          "output_type": "stream",
          "name": "stdout",
          "text": [
            "(1, 2, 3, 4, 5, 6, 7, 8, 9, 10)\n"
          ]
        }
      ]
    },
    {
      "cell_type": "code",
      "source": [],
      "metadata": {
        "id": "J2pBsS-f7idJ"
      },
      "execution_count": null,
      "outputs": []
    },
    {
      "cell_type": "markdown",
      "source": [
        " Crie uma tupla com alguns elementos e remova um elemento específico."
      ],
      "metadata": {
        "id": "ytDz_SXB7o-8"
      }
    },
    {
      "cell_type": "code",
      "source": [
        "tupla1 = (1,2,3,4,5)\n",
        "tupla1 =  tupla1[:3] + tupla1[-1:]\n",
        "print(tupla1)"
      ],
      "metadata": {
        "id": "QvIAx6HP7pbh",
        "colab": {
          "base_uri": "https://localhost:8080/"
        },
        "outputId": "bb5b471e-cf75-45ef-83a9-bf7b0caf9c21"
      },
      "execution_count": 66,
      "outputs": [
        {
          "output_type": "stream",
          "name": "stdout",
          "text": [
            "(1, 2, 3, 5)\n"
          ]
        }
      ]
    },
    {
      "cell_type": "markdown",
      "source": [
        "#Sets"
      ],
      "metadata": {
        "id": "v_JM0Has1pPL"
      }
    },
    {
      "cell_type": "markdown",
      "source": [
        "Crie dois sets com cores diferentes e exiba na tela a união dos dois sets."
      ],
      "metadata": {
        "id": "Urrv-Y291roJ"
      }
    },
    {
      "cell_type": "code",
      "source": [
        "cores_quentes = {'marelo', 'laranja', 'vermelho'}\n",
        "cores_frias = {'azul', 'verde', 'violeta'}\n",
        "\n",
        "cores = cores_quentes.union(cores_frias)\n",
        "print(cores)"
      ],
      "metadata": {
        "id": "FM4S-PEa1zSW",
        "colab": {
          "base_uri": "https://localhost:8080/"
        },
        "outputId": "fe92d0c6-f1bc-4665-e9cd-85c823933054"
      },
      "execution_count": 67,
      "outputs": [
        {
          "output_type": "stream",
          "name": "stdout",
          "text": [
            "{'marelo', 'azul', 'verde', 'vermelho', 'laranja', 'violeta'}\n"
          ]
        }
      ]
    },
    {
      "cell_type": "markdown",
      "source": [
        ":Crie uma lista com alguns números repetidos. Converta essa lista em um set para remover as duplicatas e exiba o resultado."
      ],
      "metadata": {
        "id": "0q0tG4eG1zkL"
      }
    },
    {
      "cell_type": "code",
      "source": [
        "lista_numeros = [1,1,2,2,3,3,4,4,5,5]\n",
        "\n",
        "set_numeros = set(lista_numeros)\n",
        "print(f'Lista de números original: {lista_numeros}')\n",
        "print(f'Set de números sem repetição: {set_numeros}')\n",
        "\n"
      ],
      "metadata": {
        "id": "j4okoTWR2I_R",
        "colab": {
          "base_uri": "https://localhost:8080/"
        },
        "outputId": "7ad0087b-6cfc-4753-83c8-014b6dd169d2"
      },
      "execution_count": 69,
      "outputs": [
        {
          "output_type": "stream",
          "name": "stdout",
          "text": [
            "Lista de números original: [1, 1, 2, 2, 3, 3, 4, 4, 5, 5]\n",
            "Set de números sem repetição: {1, 2, 3, 4, 5}\n"
          ]
        }
      ]
    },
    {
      "cell_type": "markdown",
      "source": [
        "#Dicionários:"
      ],
      "metadata": {
        "id": "4MCBgr-k1fvU"
      }
    },
    {
      "cell_type": "markdown",
      "source": [
        " Crie um dicionário com os nomes de algumas frutas e suas respectivas cores. Exiba na tela somente as frutas que são vermelhas."
      ],
      "metadata": {
        "id": "0A-DeyIMPh4g"
      }
    },
    {
      "cell_type": "code",
      "source": [
        "frutas_cores = {\n",
        "    \"Banana\": \"Amarela\",\n",
        "    \"Maçã\": \"Vermelha\",\n",
        "    \"Morango\": \"Vermelha\",\n",
        "    \"Laranja\": \"Laranja\"\n",
        "}\n",
        "\n",
        "\n",
        "for fruta, cor in frutas_cores.items():\n",
        "  if cor == \"Vermelha\":\n",
        "    print(fruta)\n",
        "\n",
        "\n"
      ],
      "metadata": {
        "id": "7jlD2DV4Pjom",
        "colab": {
          "base_uri": "https://localhost:8080/"
        },
        "outputId": "5638c755-9fb6-4ab2-fb26-7277b7b9b5d3"
      },
      "execution_count": 104,
      "outputs": [
        {
          "output_type": "stream",
          "name": "stdout",
          "text": [
            "Maçã\n",
            "Morango\n"
          ]
        }
      ]
    },
    {
      "cell_type": "markdown",
      "source": [
        "Crie um dicionário com o nome e a idade de três pessoas. Busque por  um nome e exiba a idade correspondente."
      ],
      "metadata": {
        "id": "q-XV14A-PmSa"
      }
    },
    {
      "cell_type": "code",
      "source": [
        "nome_idade = {\n",
        "    \"Ana\": 77,\n",
        "    \"Maria\": 55,\n",
        "    \"Jaque\": 33\n",
        "}\n",
        "\n",
        "nome = input(\"Digite o nome de uma pessoa:\")\n",
        "\n",
        "if nome in nome_idade:\n",
        "  print(f'A idade da {nome} é {nome_idade[nome]}')\n",
        "else:\n",
        "  print(f'{nome} não está na lista')\n",
        "\n"
      ],
      "metadata": {
        "id": "8rPH-lzG2gvh",
        "colab": {
          "base_uri": "https://localhost:8080/"
        },
        "outputId": "b77b2b2d-7d43-443f-a272-71868a55e441"
      },
      "execution_count": 107,
      "outputs": [
        {
          "output_type": "stream",
          "name": "stdout",
          "text": [
            "Digite o nome de uma pessoa:Maria\n",
            "A idade da Maria é 55\n"
          ]
        }
      ]
    },
    {
      "cell_type": "markdown",
      "source": [
        "Crie um dicionário com os nomes e idades de algumas pessoas. Peça para o usuário digitar um nome e sua nova idade, e atualize o dicionário com essa informação."
      ],
      "metadata": {
        "id": "yEn6q_MP5SdW"
      }
    },
    {
      "cell_type": "code",
      "source": [
        "dic_nome_idade = {\n",
        "    \"Ana\": 77,\n",
        "    \"Maria\": 55,\n",
        "    \"Jaque\": 33\n",
        "}\n",
        "\n",
        "nome = input(\"Digite o nome de uma pessoa:\")\n",
        "idade = int(input(f'Digite a idade de {nome}: '))\n",
        "\n",
        "if nome in dic_nome_idade:\n",
        "  dic_nome_idade[nome] = idade\n",
        "else:\n",
        "  print(f'{nome} não está na lista')\n",
        "\n",
        "\n",
        "print(\"'Novo dicionário atualizado: \")\n",
        "print(dic_nome_idade)\n",
        "\n"
      ],
      "metadata": {
        "id": "H-RHnfMm5TcR",
        "colab": {
          "base_uri": "https://localhost:8080/"
        },
        "outputId": "e1d40675-5359-4483-d1b3-bf34aa432577"
      },
      "execution_count": 109,
      "outputs": [
        {
          "output_type": "stream",
          "name": "stdout",
          "text": [
            "Digite o nome de uma pessoa:Ana\n",
            "Digite a idade de Ana: 18\n",
            "'Novo dicionário atualizado: \n",
            "{'Ana': 18, 'Maria': 55, 'Jaque': 33}\n"
          ]
        }
      ]
    },
    {
      "cell_type": "markdown",
      "source": [
        "Desafio Dicionários:\n",
        "\n",
        "Busque o código desenvolvido para o exercicio abaixo e altere o algoritmo para:\n",
        "\n",
        " - Salvar o resultado da eleição em um dícionário.\n",
        "\n",
        "\n",
        "Exemplo de saida do dicionario: {\"Candidato 1\": 2, \"Candidato 2\": 2, \"Voto Nulo\": 0, \"Voto Branco\": 1}\n",
        "\n",
        "\n",
        "Este exercicio foi realizado na lista da semana passada, exercicio de número 4:"
      ],
      "metadata": {
        "id": "Jeelh1Xw2hab"
      }
    },
    {
      "cell_type": "markdown",
      "source": [
        "\n",
        "\"Em uma eleição presidencial existem dois candidatos. Os votos são informados através de códigos. Os dados utilizados para a contagem dos votos obedecem à seguinte codificação:\n",
        "\n",
        "1,2 = voto para os respectivos candidatos\n",
        "\n",
        "3 = voto nulo\n",
        "\n",
        "4 = voto em branco;\n",
        "\n",
        "Elabore um programa que leia o código de votação de 5 eleitores. Calcule e escreva: total de votos para cada candidato total de votos nulos total de votos em branco\""
      ],
      "metadata": {
        "id": "cDnoQXk83e5B"
      }
    },
    {
      "cell_type": "code",
      "source": [
        "voto = 0\n",
        "\n",
        "votos = {\n",
        "    \"Candidato 1\": 0,\n",
        "    \"Candidato 2\": 0,\n",
        "    \"Voto Nulo\": 0,\n",
        "    \"Voto Branco\": 0\n",
        "}\n",
        "\n",
        "for i in range(1,6,1):\n",
        "  voto = float(input(f'Informe seu voto: '))\n",
        "\n",
        "  if voto == 1:\n",
        "    votos[\"Candidato 1\"] += 1\n",
        "  elif  voto == 2:\n",
        "    votos[\"Candidato 2\"] += 1\n",
        "  elif  voto == 3:\n",
        "    votos[\"Voto Nulo\"] += 1\n",
        "  elif  voto == 4:\n",
        "        votos[\"Voto Branco\"] += 1\n",
        "\n",
        "print(f'Total de votos: {votos}')\n"
      ],
      "metadata": {
        "id": "CRlV5NE82kpE",
        "colab": {
          "base_uri": "https://localhost:8080/"
        },
        "outputId": "3152a822-cf3d-4458-957d-17eca55c9ddd"
      },
      "execution_count": 110,
      "outputs": [
        {
          "output_type": "stream",
          "name": "stdout",
          "text": [
            "Informe seu voto: 1\n",
            "Informe seu voto: 2\n",
            "Informe seu voto: 1\n",
            "Informe seu voto: 4\n",
            "Informe seu voto: 4\n",
            "Total de votos: {'Candidato 1': 2, 'Candidato 2': 1, 'Voto Nulo': 0, 'Voto Branco': 2}\n"
          ]
        }
      ]
    },
    {
      "cell_type": "markdown",
      "source": [
        "#Listas por Compreensão:"
      ],
      "metadata": {
        "id": "ffEKF4Kx5eQu"
      }
    },
    {
      "cell_type": "markdown",
      "source": [
        "Crie uma lista com os números Impares de 1 a 20 utilizando listas por compreensão."
      ],
      "metadata": {
        "id": "IrQvRhQM5oj6"
      }
    },
    {
      "cell_type": "code",
      "source": [
        "lista_impares = [i for i in range(1,21) if i % 2 != 0]\n",
        "print(lista_impares)\n"
      ],
      "metadata": {
        "id": "lqgX2B6x5fLc",
        "colab": {
          "base_uri": "https://localhost:8080/"
        },
        "outputId": "e0a11a84-1da5-4a31-c20d-56cc2fcc6619"
      },
      "execution_count": 128,
      "outputs": [
        {
          "output_type": "stream",
          "name": "stdout",
          "text": [
            "[1, 3, 5, 7, 9, 11, 13, 15, 17, 19]\n"
          ]
        }
      ]
    },
    {
      "cell_type": "markdown",
      "source": [
        "Crie uma lista com as letras da frase \"Sou estudante de dados\", utilizando listas por compreensão."
      ],
      "metadata": {
        "id": "R2DKj08Z5tqJ"
      }
    },
    {
      "cell_type": "code",
      "source": [
        "frase = \"Sou estudante de dados\"\n",
        "lista_letras = [letra for letra in frase]\n",
        "print(lista_letras)\n"
      ],
      "metadata": {
        "colab": {
          "base_uri": "https://localhost:8080/"
        },
        "id": "ig9OWn4F1aQ2",
        "outputId": "9859375a-97a9-433b-bc71-e68bc5f928d6"
      },
      "execution_count": 130,
      "outputs": [
        {
          "output_type": "stream",
          "name": "stdout",
          "text": [
            "['S', 'o', 'u', ' ', 'e', 's', 't', 'u', 'd', 'a', 'n', 't', 'e', ' ', 'd', 'e', ' ', 'd', 'a', 'd', 'o', 's']\n"
          ]
        }
      ]
    }
  ]
}