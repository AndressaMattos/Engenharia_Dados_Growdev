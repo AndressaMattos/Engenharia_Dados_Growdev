{
  "nbformat": 4,
  "nbformat_minor": 0,
  "metadata": {
    "colab": {
      "provenance": [],
      "include_colab_link": true
    },
    "kernelspec": {
      "name": "python3",
      "display_name": "Python 3"
    },
    "language_info": {
      "name": "python"
    }
  },
  "cells": [
    {
      "cell_type": "markdown",
      "metadata": {
        "id": "view-in-github",
        "colab_type": "text"
      },
      "source": [
        "<a href=\"https://colab.research.google.com/github/AndressaMattos/Engenharia_Dados_Growdev/blob/main/Atividade_La%C3%A7os_de_repeti%C3%A7%C3%A3o_Semana_03.ipynb\" target=\"_parent\"><img src=\"https://colab.research.google.com/assets/colab-badge.svg\" alt=\"Open In Colab\"/></a>"
      ]
    },
    {
      "cell_type": "markdown",
      "source": [
        "![Growdev](https://www.growdev.com.br/assets/images/logo_growdev.png)"
      ],
      "metadata": {
        "id": "v8pFWwviib2C"
      }
    },
    {
      "cell_type": "markdown",
      "source": [
        "![Formação Engenharia de Dados](https://d335luupugsy2.cloudfront.net/cms/files/524558/1707226566/$occu5m8t1op)"
      ],
      "metadata": {
        "id": "6Tkl4_HxifXZ"
      }
    },
    {
      "cell_type": "markdown",
      "source": [
        "Este material tem como objetivo incentivar a prática dos conteúdos estudados até o momento, e a pesquisa. Tenha em consideração que o exercício foi pensado para incentivar a prática dos conteúdos estudados até então, porém aprender a pesquisar faz parte do processo de aprendizagem.\n",
        "\n",
        "Fique tranquilo, faça os exercícios com calma, e boa prática!\n"
      ],
      "metadata": {
        "id": "ty7Bzyl1i9bN"
      }
    },
    {
      "cell_type": "markdown",
      "source": [
        "#Orientações:\n",
        "\n",
        " - Faça uma copia deste arquivo\n",
        " - Após concluir os exercicios, suba seu exercicio para o GitHub e compartilhe o link no **google** Classroom\n"
      ],
      "metadata": {
        "id": "DU5-yCQwjx3V"
      }
    },
    {
      "cell_type": "markdown",
      "source": [
        "#Exercícios"
      ],
      "metadata": {
        "id": "EzT810tnlmfE"
      }
    },
    {
      "cell_type": "markdown",
      "source": [
        "\n",
        "1- Escrever um programa que lê 5 valores para a, um de cada vez, e conta quantos destes valores são negativos, escrevendo esta informação."
      ],
      "metadata": {
        "id": "p62-CTXgvn5E"
      }
    },
    {
      "cell_type": "code",
      "source": [
        "for i in range(1,6,1):\n",
        "  numero = int(input(f'Informe o {i} º número:'))\n",
        "  if numero < 0 :\n",
        "    print(f'O número {numero} é negativo!')\n",
        "  elif numero > 0:\n",
        "    print(f'O número {numero} é positivo!')\n",
        "  elif numero == 0:\n",
        "    print(f'O número {numero} é neutro!')\n",
        "\n"
      ],
      "metadata": {
        "id": "gU8NkXNYvmZv",
        "colab": {
          "base_uri": "https://localhost:8080/"
        },
        "outputId": "34417197-8f2a-4136-fbda-c53a8b0a4106"
      },
      "execution_count": 6,
      "outputs": [
        {
          "output_type": "stream",
          "name": "stdout",
          "text": [
            "Informe o 1 º número:1\n",
            "O número 1 é positivo!\n",
            "Informe o 2 º número:2\n",
            "O número 2 é positivo!\n",
            "Informe o 3 º número:3\n",
            "O número 3 é positivo!\n",
            "Informe o 4 º número:4\n",
            "O número 4 é positivo!\n",
            "Informe o 5 º número:5\n",
            "O número 5 é positivo!\n"
          ]
        }
      ]
    },
    {
      "cell_type": "markdown",
      "source": [
        "\n",
        "\n",
        "> Adicionar aspas\n",
        "\n"
      ],
      "metadata": {
        "id": "_ST1Z4wkjMzJ"
      }
    },
    {
      "cell_type": "markdown",
      "source": [
        "2 - A prefeitura de uma cidade fez uma pesquisa entre seus habitantes, coletando dados sobre o salário e número de filhos. A prefeitura deseja saber:\n",
        "\n",
        "a) média do salário da população;\n",
        "\n",
        "b) média do número de filhos;\n",
        "\n",
        "c) maior salário;\n",
        "\n",
        "d) percentual de pessoas com salário até R$2000,00.\n",
        "\n",
        "Escreva um programa que receba as informações necessárias de 5 pessoas conforme a descrição e responda às questões a, b, c e d anteriores.\n"
      ],
      "metadata": {
        "id": "59g_B9yRvqYS"
      }
    },
    {
      "cell_type": "code",
      "source": [
        "maior_salario = 0\n",
        "soma_salario = 0\n",
        "soma_filhos =0\n",
        "quantidade_salario_2000 = 0\n",
        "\n",
        "for i in range(1,6,1):\n",
        "  valor_salario = float(input(f'Informe seu salário: '))\n",
        "  quantidade_filhos = int(input(f'Quantos filhos tem? '))\n",
        "  soma_salario = soma_salario + valor_salario\n",
        "  soma_filhos = soma_filhos + quantidade_filhos\n",
        "  if maior_salario <= valor_salario:\n",
        "    maior_salario = valor_salario\n",
        "  if valor_salario <= 2000:\n",
        "    quantidade_salario_2000 = quantidade_salario_2000 +1\n",
        "\n",
        "\n",
        "\n",
        "print(f'a) média do salário da população: {soma_salario / 5}')\n",
        "print(f'b) média do número de filhos: {soma_filhos / 5}')\n",
        "print(f'c) maior salário: {maior_salario}')\n",
        "print(f'd) percentual de pessoas com salário até R$2000,00: {(quantidade_salario_2000/5)*100} %')\n",
        "\n"
      ],
      "metadata": {
        "id": "hz6OkEJBv52O",
        "colab": {
          "base_uri": "https://localhost:8080/"
        },
        "outputId": "1db203f8-a00c-44d7-a94f-44613415332a"
      },
      "execution_count": 12,
      "outputs": [
        {
          "output_type": "stream",
          "name": "stdout",
          "text": [
            "Informe seu salário: 5000\n",
            "Quantos filhos tem? 3\n",
            "Informe seu salário: 2000\n",
            "Quantos filhos tem? 3\n",
            "Informe seu salário: 1500\n",
            "Quantos filhos tem? 3\n",
            "Informe seu salário: 1000\n",
            "Quantos filhos tem? 3\n",
            "Informe seu salário: 4000\n",
            "Quantos filhos tem? 3\n",
            "a) média do salário da população: 2700.0\n",
            "b) média do número de filhos: 3.0\n",
            "c) maior salário: 5000.0\n",
            "d) percentual de pessoas com salário até R$2000,00: 60.0\n"
          ]
        }
      ]
    },
    {
      "cell_type": "markdown",
      "source": [
        "3 - Chico tem 1,50 metro e cresce 2 centímetros por ano, enquanto Zé tem 1,10 metro e cresce 3 centímetros por ano. Construa um programa que calcule e imprima quantos anos serão necessários para que Zé seja maior que Chico."
      ],
      "metadata": {
        "id": "V-7kNtvtwDN1"
      }
    },
    {
      "cell_type": "code",
      "source": [
        "altura_chico = 150\n",
        "altura_ze = 110\n",
        "anos = 0\n",
        "\n",
        "while altura_ze <= altura_chico:\n",
        "  altura_chico = altura_chico + 2\n",
        "  altura_ze = altura_ze + 3\n",
        "  anos =anos+1;\n",
        "  #print (f'{anos}:  {altura_ze} <= {altura_chico }')\n",
        "\n",
        "\n",
        "\n",
        "print (f'Levará {anos} anos para zé ser maior do que chico')\n"
      ],
      "metadata": {
        "id": "Xlx4kqLpwE4L",
        "colab": {
          "base_uri": "https://localhost:8080/"
        },
        "outputId": "b7c27c93-ac28-404f-ccda-6cad50390102"
      },
      "execution_count": 17,
      "outputs": [
        {
          "output_type": "stream",
          "name": "stdout",
          "text": [
            "1:  113 <= 152\n",
            "2:  116 <= 154\n",
            "3:  119 <= 156\n",
            "4:  122 <= 158\n",
            "5:  125 <= 160\n",
            "6:  128 <= 162\n",
            "7:  131 <= 164\n",
            "8:  134 <= 166\n",
            "9:  137 <= 168\n",
            "10:  140 <= 170\n",
            "11:  143 <= 172\n",
            "12:  146 <= 174\n",
            "13:  149 <= 176\n",
            "14:  152 <= 178\n",
            "15:  155 <= 180\n",
            "16:  158 <= 182\n",
            "17:  161 <= 184\n",
            "18:  164 <= 186\n",
            "19:  167 <= 188\n",
            "20:  170 <= 190\n",
            "21:  173 <= 192\n",
            "22:  176 <= 194\n",
            "23:  179 <= 196\n",
            "24:  182 <= 198\n",
            "25:  185 <= 200\n",
            "26:  188 <= 202\n",
            "27:  191 <= 204\n",
            "28:  194 <= 206\n",
            "29:  197 <= 208\n",
            "30:  200 <= 210\n",
            "31:  203 <= 212\n",
            "32:  206 <= 214\n",
            "33:  209 <= 216\n",
            "34:  212 <= 218\n",
            "35:  215 <= 220\n",
            "36:  218 <= 222\n",
            "37:  221 <= 224\n",
            "38:  224 <= 226\n",
            "39:  227 <= 228\n",
            "40:  230 <= 230\n",
            "41:  233 <= 232\n",
            "Levará 41 anos para zé ser maior do que chico\n"
          ]
        }
      ]
    },
    {
      "cell_type": "markdown",
      "source": [
        "4 - Em uma eleição presidencial existem quatro candidatos. Os votos são informados através de códigos. Os dados utilizados para a contagem dos votos obedecem à seguinte codificação:  \n",
        "\n",
        "1,2 = voto para os respectivos candidatos\n",
        "\n",
        "3 = voto nulo\n",
        "\n",
        "4 = voto em branco;\n",
        "\n",
        "Elabore um programa que leia o código de votação de 5 candidatos. Calcule e escreva:\n",
        "total de votos para cada candidato\n",
        "total de votos nulos\n",
        "total de votos em branco\n"
      ],
      "metadata": {
        "id": "BU7x-lumwGRO"
      }
    },
    {
      "cell_type": "code",
      "source": [
        "voto = 0\n",
        "soma_candidato_1 = 0\n",
        "soma_candidato_2 = 0\n",
        "soma_nulo = 0\n",
        "soma_branco =0\n",
        "\n",
        "for i in range(1,6,1):\n",
        "  voto = float(input(f'Informe seu voto: '))\n",
        "\n",
        "  if voto == 1:\n",
        "    soma_candidato_1 = soma_candidato_1 +1\n",
        "  elif  voto == 2:\n",
        "    soma_candidato_2 = soma_candidato_2 +1\n",
        "  elif  voto == 3:\n",
        "    soma_nulo = soma_nulo +1\n",
        "  elif  voto == 4:\n",
        "    soma_branco = soma_branco +1\n",
        "\n",
        "\n",
        "print(f'Total de votos Candidato 1: {soma_candidato_1}')\n",
        "print(f'Total de votos Candidato 2: {soma_candidato_2}')\n",
        "print(f'Total de votos Nulos: {soma_nulo}')\n",
        "print(f'Total de votos Brancos: {soma_branco}')\n"
      ],
      "metadata": {
        "id": "tnOkAb44wQo5",
        "colab": {
          "base_uri": "https://localhost:8080/"
        },
        "outputId": "a22937a4-39fa-4a3f-cb85-35e29ddfa99b"
      },
      "execution_count": 18,
      "outputs": [
        {
          "output_type": "stream",
          "name": "stdout",
          "text": [
            "Informe seu voto: 1\n",
            "Informe seu voto: 2\n",
            "Informe seu voto: 3\n",
            "Informe seu voto: 4\n",
            "Informe seu voto: 4\n",
            "Total de votos Candidato 1: 1\n",
            "Total de votos Candidato 2: 1\n",
            "Total de votos Nulos: 1\n",
            "Total de votos Brancos: 2\n"
          ]
        }
      ]
    },
    {
      "cell_type": "markdown",
      "source": [
        "5 - Escreva um programa que receba o nome de 10 pessoas e para cada pessoa, o lugar para o qual ela já viajou. Sendo que existem 3 possibilidades:\n",
        "\n",
        "Rio de Janeiro\n",
        "\n",
        "Bahia\n",
        "\n",
        "Minas Gerais\n",
        "\n",
        "Após, informar qual foi o destino mais visitado e qual o menos visitado.\n"
      ],
      "metadata": {
        "id": "oNyazyHPwzlo"
      }
    },
    {
      "cell_type": "code",
      "source": [
        "\n",
        "\n",
        "quantidade_viagens_rio = 0\n",
        "quantidade_viagens_bahia = 0\n",
        "quantidade_viagens_rio_minas = 0\n",
        "\n",
        "for i in range(1,11,1):\n",
        "  nome = str(input('Qual seu nome?'))\n",
        "  escolha = 8\n",
        "  while escolha != 0:\n",
        "    escolha = int(input(f'Pessoa {nome} informe para onde você viajou: \\n 1 - Rio de Janeiro \\n 2 - Bahia \\n 3 - Minas Gerais \\n 0 - Terminou'))\n",
        "    if escolha == 1:\n",
        "      quantidade_viagens_rio = quantidade_viagens_rio +1\n",
        "    if escolha == 2:\n",
        "      quantidade_viagens_bahia = quantidade_viagens_bahia +1\n",
        "    if escolha == 3:\n",
        "      quantidade_viagens_rio_minas = quantidade_viagens_rio_minas +1\n",
        "\n",
        "if quantidade_viagens_rio >= quantidade_viagens_bahia >= quantidade_viagens_rio_minas:\n",
        "      print(f'O destino mais viajado foi para o rio de Janeiro com {quantidade_viagens_rio} viagens')\n",
        "elif quantidade_viagens_rio >= quantidade_viagens_bahia >= quantidade_viagens_rio_minas:\n",
        "      print(f'O destino mais viajado foi para o rio de Janeiro com {quantidade_viagens_rio} viagens')\n",
        "elif quantidade_viagens_rio >= quantidade_viagens_bahia >= quantidade_viagens_rio_minas:\n",
        "    print(f'O destino mais viajado foi para o rio de Janeiro com {quantidade_viagens_rio} viagens')\n"
      ],
      "metadata": {
        "id": "FzTr2EY1w2Ey",
        "colab": {
          "base_uri": "https://localhost:8080/"
        },
        "outputId": "027052cb-0d4a-4d1e-e5fd-cc444f41733b"
      },
      "execution_count": 30,
      "outputs": [
        {
          "output_type": "stream",
          "name": "stdout",
          "text": [
            "Qual seu nome?and\n",
            "Pessoa and informe para onde você viajou: \n",
            " 1 - Rio de Janeiro \n",
            " 2 - Bahia \n",
            " 3 - Minas Gerais \n",
            " 0 - Terminou1\n",
            "Pessoa and informe para onde você viajou: \n",
            " 1 - Rio de Janeiro \n",
            " 2 - Bahia \n",
            " 3 - Minas Gerais \n",
            " 0 - Terminou2\n",
            "Pessoa and informe para onde você viajou: \n",
            " 1 - Rio de Janeiro \n",
            " 2 - Bahia \n",
            " 3 - Minas Gerais \n",
            " 0 - Terminou3\n",
            "Pessoa and informe para onde você viajou: \n",
            " 1 - Rio de Janeiro \n",
            " 2 - Bahia \n",
            " 3 - Minas Gerais \n",
            " 0 - Terminou0\n",
            "Qual seu nome?dessa\n",
            "Pessoa dessa informe para onde você viajou: \n",
            " 1 - Rio de Janeiro \n",
            " 2 - Bahia \n",
            " 3 - Minas Gerais \n",
            " 0 - Terminou1\n",
            "Pessoa dessa informe para onde você viajou: \n",
            " 1 - Rio de Janeiro \n",
            " 2 - Bahia \n",
            " 3 - Minas Gerais \n",
            " 0 - Terminou0\n",
            "O destino mais viajado foi para o rio de Janeiro com 2 viagens\n"
          ]
        }
      ]
    },
    {
      "cell_type": "markdown",
      "source": [
        "6 -  A série de Fibonacci é formada pela sequência 1,1,2,3,5,8,13,21,34,55,... Faça um programa capaz de gerar a série até o n−ésimo termo.\n",
        "\n",
        "> Adicionar aspas\n",
        "\n"
      ],
      "metadata": {
        "id": "HVJPsqTcw95-"
      }
    },
    {
      "cell_type": "code",
      "source": [
        "quantidade_termos = int(input(\"Digite o número de termos da série de Fibonacci que deseja gerar: \"))\n",
        "fibonacci = [0,1]\n",
        "\n",
        "for i in range(2, quantidade_termos):\n",
        "  proximo_numero = fibonacci[i-1] + fibonacci[i-2]\n",
        "  fibonacci.append(proximo_numero)\n",
        "\n",
        "print(f'{fibonacci}')"
      ],
      "metadata": {
        "id": "ZwgmpSgGw-v3",
        "colab": {
          "base_uri": "https://localhost:8080/"
        },
        "outputId": "311832dc-32d3-4098-a281-3bf516008ec3"
      },
      "execution_count": 90,
      "outputs": [
        {
          "output_type": "stream",
          "name": "stdout",
          "text": [
            "Digite o número de termos da série de Fibonacci que deseja gerar: 12\n",
            "[0, 1, 1, 2, 3, 5, 8, 13, 21, 34, 55, 89]\n"
          ]
        }
      ]
    },
    {
      "cell_type": "markdown",
      "source": [
        "7 - Escreva um programa que conte em ordem reversa, de 25 a zero."
      ],
      "metadata": {
        "id": "DaF7vXEWxB6R"
      }
    },
    {
      "cell_type": "code",
      "source": [
        "for i in range(25,0,-1):\n",
        "  print(f'{i}')"
      ],
      "metadata": {
        "id": "2AYe_lX2xCdj",
        "colab": {
          "base_uri": "https://localhost:8080/"
        },
        "outputId": "f3d47600-1989-4431-9c5b-85a8ae556683"
      },
      "execution_count": 38,
      "outputs": [
        {
          "output_type": "stream",
          "name": "stdout",
          "text": [
            "25\n",
            "24\n",
            "23\n",
            "22\n",
            "21\n",
            "20\n",
            "19\n",
            "18\n",
            "17\n",
            "16\n",
            "15\n",
            "14\n",
            "13\n",
            "12\n",
            "11\n",
            "10\n",
            "9\n",
            "8\n",
            "7\n",
            "6\n",
            "5\n",
            "4\n",
            "3\n",
            "2\n",
            "1\n"
          ]
        }
      ]
    },
    {
      "cell_type": "markdown",
      "source": [
        "8 - Crie um programa para que retorne o somatório de todos os números entre 1 e um valor fornecido pelo usuário. Por exemplo, se o usuário fornecer o número 4, o computador deverá calcular o somatório 1+ 2 + 3 + 4 = 10."
      ],
      "metadata": {
        "id": "Oc2yjIGqxF3h"
      }
    },
    {
      "cell_type": "code",
      "source": [
        "numero = int(input(f'Informe o um número:'))\n",
        "soma = 0\n",
        "for i in range(1,numero+1, 1):\n",
        "  soma = i +soma\n",
        "  #print(f'{i} {soma}')\n",
        "\n",
        "print(f'A soma é: {soma}')"
      ],
      "metadata": {
        "id": "m5gfIfomxGwe",
        "colab": {
          "base_uri": "https://localhost:8080/"
        },
        "outputId": "b4072b40-e7ab-4e91-9dd8-2f930451e930"
      },
      "execution_count": 45,
      "outputs": [
        {
          "output_type": "stream",
          "name": "stdout",
          "text": [
            "Informe o um número:4\n",
            "1 1\n",
            "2 3\n",
            "3 6\n",
            "4 10\n",
            "A soma é: 10\n"
          ]
        }
      ]
    },
    {
      "cell_type": "markdown",
      "source": [
        "9 - Escreva um programa que leia a idade e salário de 10 pessoas. Informe em seguida:\n",
        "Qual é a média de idade entre as pessoas?\n",
        "Quantas pessoas há por faixa etária, considerando:\n",
        "jovens < 18\n",
        "18 <= adultos < 60\n",
        "idosos >= 60\n",
        "Em seguida, mostre qual é a faixa etária que acumula o maior salário.\n"
      ],
      "metadata": {
        "id": "5D368hETyJQh"
      }
    },
    {
      "cell_type": "code",
      "source": [
        "soma_idade = 0\n",
        "qtde_crianca = 0\n",
        "qtde_adolescente = 0\n",
        "qtde_adulto = 0\n",
        "qtde_idoso = 0\n",
        "maior_salario = 0\n",
        "faixa_maior_salario = 'erro'\n",
        "\n",
        "for i in range(1,11,1):\n",
        "  idade = int(input('Informe sua idade:'))\n",
        "  salario = float(input('Informe seu salário:'))\n",
        "\n",
        "  if idade <= 12:\n",
        "    qtde_crianca = qtde_crianca +1\n",
        "    if maior_salario <= salario:\n",
        "      maior_salario = salario\n",
        "      faixa_maior_salario = 'Criança'\n",
        "  elif idade >=13 and idade <= 17:\n",
        "    qtde_adolescente = qtde_adolescente +1\n",
        "    if maior_salario <= salario:\n",
        "      maior_salario = salario\n",
        "      faixa_maior_salario = 'Adolescente'\n",
        "  elif idade >= 18 and idade <=59:\n",
        "    qtde_adulto = qtde_adulto +1\n",
        "    if maior_salario <= salario:\n",
        "      maior_salario = salario\n",
        "      faixa_maior_salario = 'Adulto'\n",
        "  else:\n",
        "    qtde_idoso = qtde_idoso +1\n",
        "    if maior_salario <= salario:\n",
        "      maior_salario = salario\n",
        "      faixa_maior_salario = 'Idoso'\n",
        "  soma_idade = soma_idade + idade\n",
        "\n",
        "\n",
        "\n",
        "print (f'Média de idades {soma_idade/10} das 10 pessoas')\n",
        "\n",
        "print (f'Há {qtde_crianca} crianças \\n Há {qtde_adolescente} adolescenteS \\n Há {qtde_adulto} adultoS \\n Há {qtde_idoso} idosos')\n",
        "\n",
        "print (f'O maior salário é {maior_salario} da faixa {faixa_maior_salario}')\n"
      ],
      "metadata": {
        "id": "zZsS7JHm0UY6",
        "colab": {
          "base_uri": "https://localhost:8080/"
        },
        "outputId": "8f32a7e3-aa50-44f9-e0a9-2597470ef28b"
      },
      "execution_count": 48,
      "outputs": [
        {
          "output_type": "stream",
          "name": "stdout",
          "text": [
            "Informe sua idade:20\n",
            "Informe seu salário:5000\n",
            "Informe sua idade:30\n",
            "Informe seu salário:1000\n",
            "Média de idades 5.0 das 10 pessoas\n",
            "Há 0 crianças \n",
            " Há 0 adolescenteS \n",
            " Há 2 adultoS \n",
            " Há 0 idosos\n",
            "O maior salário é 5000.0 da faixa Adulto\n"
          ]
        }
      ]
    },
    {
      "cell_type": "markdown",
      "source": [
        "10 - Crie uma calculadora simples que realiza operações de adição, subtração, multiplicação, divisão e exponenciação. O programa deve continuar pedindo operações até que o usuário escolha sair.Exemplo de saída:"
      ],
      "metadata": {
        "id": "L4xlYJzdhZyV"
      }
    },
    {
      "cell_type": "code",
      "source": [
        "escolha = '-'\n",
        "\n",
        "\n",
        "while escolha != '0':\n",
        "  #print(f'Entrou no while {escolha}')\n",
        "  escolha = str(input(f'\\n Informe a operação: \\n + para Adição \\n - para Subtração \\n * para Multiplicação \\n / para Divisão \\n ? para Exponenciação \\n \\n Informe 0 para sair: \\n '))\n",
        "  if escolha == '0':\n",
        "    print('Até mais!')\n",
        "  elif escolha not in ( '+','-','*','/','?'):\n",
        "    print('Inválido! Tente novamente!')\n",
        "  else:\n",
        "    numero_1 = int(input(f'Informe um número:'))\n",
        "    numero_2 = int(input(f'Informe outro número:'))\n",
        "    if escolha == '+':\n",
        "      print (f'{numero_1} {escolha} {numero } = {numero_1 + numero_2}')\n"
      ],
      "metadata": {
        "id": "t1GTUaOshazK",
        "colab": {
          "base_uri": "https://localhost:8080/"
        },
        "outputId": "55acea68-49b3-47cc-e096-e34981427a08"
      },
      "execution_count": 66,
      "outputs": [
        {
          "output_type": "stream",
          "name": "stdout",
          "text": [
            "Entrou no while -\n",
            "\n",
            " Informe a operação: \n",
            " + para Adição \n",
            " - para Subtração \n",
            " * para Multiplicação \n",
            " / para Divisão \n",
            " ? para Exponenciação \n",
            " \n",
            " Informe 0 para sair \n",
            " +\n",
            "Informe um número:5\n",
            "Informe outro número:8\n",
            "5 + 4 = 13\n",
            "Entrou no while +\n",
            "\n",
            " Informe a operação: \n",
            " + para Adição \n",
            " - para Subtração \n",
            " * para Multiplicação \n",
            " / para Divisão \n",
            " ? para Exponenciação \n",
            " \n",
            " Informe 0 para sair \n",
            " 0\n",
            "Até mais!\n"
          ]
        }
      ]
    },
    {
      "cell_type": "markdown",
      "source": [
        "11 - Crie um jogo em que o computador escolha um número aleatório entre 1 e 100, e o jogador tenta adivinhá-lo. O programa deve dar dicas se o número é maior ou menor do que o número digitado pelo jogador. O jogo continua até que o jogador acerte o número."
      ],
      "metadata": {
        "id": "TvOVLvpYhohk"
      }
    },
    {
      "cell_type": "markdown",
      "source": [
        "Exemplo de saída:\n",
        "\n",
        "Bem-vindo ao jogo de adivinhação!\n",
        "\n",
        "Tente adivinhar o número entre 1 e 100.\n",
        "\n",
        "Digite sua tentativa: 50\n",
        "\n",
        "O número é menor.\n",
        "\n",
        "Digite sua tentativa: 75\n",
        "\n",
        "O número é maior.\n",
        "\n",
        "Digite sua tentativa: 63\n",
        "\n",
        "O número é menor.\n",
        "\n",
        "Digite sua tentativa: 68\n",
        "\n",
        "Parabéns! Você acertou o número 68 em 4 tentativas!"
      ],
      "metadata": {
        "id": "GMjNhBcxo3ks"
      }
    },
    {
      "cell_type": "code",
      "source": [
        "import random\n",
        "tentativas = 0\n",
        "chute = 0\n",
        "\n",
        "print('Bem-vindo ao jogo de adivinhação! \\n Tente adivinhar o número entre 1 e 100.')\n",
        "numero_aleatorio = int(random.randint(1,100))\n",
        "#print(f'{numero_aleatorio}')\n",
        "\n",
        "while numero_aleatorio != chute:\n",
        "  chute = int(input(f'Digite sua tentativa: '))\n",
        "  tentativas = tentativas +1\n",
        "  if chute > numero_aleatorio:\n",
        "    print('O número aleatório é menor')\n",
        "  elif chute < numero_aleatorio:\n",
        "    print('O número aleatório é maior')\n",
        "\n",
        "\n",
        "print(f'Parabéns! Você acertou o número {numero_aleatorio} em {tentativas} tentativas!')"
      ],
      "metadata": {
        "id": "wD7WVTzdh3Tf",
        "colab": {
          "base_uri": "https://localhost:8080/"
        },
        "outputId": "ea2c6ae9-8384-44f1-e44a-69bb8aa6ea0d"
      },
      "execution_count": 78,
      "outputs": [
        {
          "output_type": "stream",
          "name": "stdout",
          "text": [
            "Bem-vindo ao jogo de adivinhação! \n",
            " Tente adivinhar o número entre 1 e 100.\n",
            "24\n",
            "Digite sua tentativa: 20\n",
            "O número é maior\n",
            "Digite sua tentativa: 50\n",
            "O número é menor\n",
            "Digite sua tentativa: 24\n",
            "Parabéns! Você acertou o número 24 em 3 tentativas!\n"
          ]
        }
      ]
    },
    {
      "cell_type": "markdown",
      "source": [
        "12 - Escreva um programa que calcula o valor de um investimento após um número específico de anos, considerando juros compostos. O usuário deve fornecer o principal (valor inicial do investimento), a taxa de juros anual (em porcentagem) e o número de anos.\n",
        "\n",
        "A fórmula para calcular o valor de um investimento após n anos com juros compostos é:\n",
        "\n",
        "A=P×(1+r)^n\n",
        "\n",
        "\n",
        "Onde:\n",
        "\n",
        "\n",
        "A é o valor do investimento após n anos,\n",
        "\n",
        "P é o principal (valor inicial do investimento),\n",
        "\n",
        "r é a taxa de juros anual (em decimal), e\n",
        "\n",
        "n é o número de anos."
      ],
      "metadata": {
        "id": "528JJZodmafY"
      }
    },
    {
      "cell_type": "markdown",
      "source": [
        "\n",
        "Exemplo de saída:\n",
        "\n",
        "Digite o principal (R$): 1000\n",
        "\n",
        "Digite a taxa de juros anual (%): 5\n",
        "\n",
        "Digite o número de anos: 10\n",
        "\n",
        "O valor do investimento após 10 anos é: R$ 1628.89"
      ],
      "metadata": {
        "id": "-6opTpcXoxNw"
      }
    },
    {
      "cell_type": "code",
      "source": [
        "investimento_inicial = float(input('Bem-vindo ao simulador de investimento! \\n Digite o valor do investimento inicial:'))\n",
        "taxa_juros_anual = float(input('Digite a taxa anual de juros em %: '))\n",
        "numero_anos = int(input('Informe a quantidade de anos: '))\n",
        "taxa_juros_anual  = taxa_juros_anual / 100\n",
        "valor_final = investimento_inicial * (1 + taxa_juros_anual)**numero_anos\n",
        "\n",
        "print(f'O valor do investimento após {numero_anos} anos é: R$ {valor_final}')\n"
      ],
      "metadata": {
        "id": "3XHAThk1oFIT",
        "colab": {
          "base_uri": "https://localhost:8080/"
        },
        "outputId": "1465dc8a-b71f-4f06-b11c-77d3db193135"
      },
      "execution_count": 83,
      "outputs": [
        {
          "output_type": "stream",
          "name": "stdout",
          "text": [
            "Bem-vindo ao simulador de investimento! \n",
            " Digite o valor do investimento inicial:1000\n",
            "Digite a taxa anual de juros em %: 5\n",
            "Informe a quantidade de anos: 10\n",
            "O valor do investimento após 10 anos é: R$ 1628.894626777442\n"
          ]
        }
      ]
    }
  ]
}