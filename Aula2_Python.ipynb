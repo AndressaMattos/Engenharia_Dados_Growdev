{
  "cells": [
    {
      "cell_type": "markdown",
      "metadata": {
        "id": "view-in-github",
        "colab_type": "text"
      },
      "source": [
        "<a href=\"https://colab.research.google.com/github/AndressaMattos/Engenharia_Dados_Growdev/blob/main/Aula2_Python.ipynb\" target=\"_parent\"><img src=\"https://colab.research.google.com/assets/colab-badge.svg\" alt=\"Open In Colab\"/></a>"
      ]
    },
    {
      "cell_type": "markdown",
      "metadata": {
        "id": "_6Lbxulq1ps_"
      },
      "source": [
        "![Growdev](https://www.growdev.com.br/assets/images/logo_growdev.png)"
      ]
    },
    {
      "cell_type": "markdown",
      "metadata": {
        "id": "zERMKybC1ptE"
      },
      "source": [
        "![Formação Engenharia de Dados](https://d335luupugsy2.cloudfront.net/cms/files/524558/1707226566/$occu5m8t1op)"
      ]
    },
    {
      "cell_type": "markdown",
      "metadata": {
        "id": "1c1WYelW1ptF"
      },
      "source": [
        "# Tópicos da Aula de Hoje"
      ]
    },
    {
      "cell_type": "markdown",
      "metadata": {
        "id": "6P9gylDF1ptG"
      },
      "source": [
        "- Variáveis e Tipagem de Dados\n",
        "- Operadores Matemáticos e de Comparação\n",
        "- Entrada/Saída de Dados\n",
        "- Exercícios Práticos"
      ]
    },
    {
      "cell_type": "markdown",
      "metadata": {
        "id": "cdkOhrOM1ptG"
      },
      "source": [
        "**Bora pra aula?**"
      ]
    },
    {
      "cell_type": "markdown",
      "metadata": {
        "id": "8ZI_1k531ptH"
      },
      "source": [
        "# Variáveis e Tipagem de Dados"
      ]
    },
    {
      "cell_type": "markdown",
      "metadata": {
        "id": "ddH8bOdJ1ptH"
      },
      "source": [
        "## Variáveis"
      ]
    },
    {
      "cell_type": "markdown",
      "metadata": {
        "id": "Y-rdYPIe1ptH"
      },
      "source": [
        "Em Python, as variáveis são usadas para armazenar dados. Uma variável é um objeto que guarda um valor e armazena esse valor na memória do computador durante o tempo de desenvolvimento.\n",
        "\n",
        "Elas não precisam ser declaradas com um tipo específico e o tipo é inferido automaticamente. Além disso, temos o conceito de tipagem é dinâmica, o que significa que você pode reatribuir a mesma variável para diferentes tipos de dados.\n",
        "\n",
        "Podemos inicializar uma variável por meio do comando de atribuição '='."
      ]
    },
    {
      "cell_type": "code",
      "execution_count": null,
      "metadata": {
        "id": "BwCOGB4W1ptI"
      },
      "outputs": [],
      "source": [
        "# podemos definir uma variável dando um nome\n",
        "ano = 2020"
      ]
    },
    {
      "cell_type": "code",
      "execution_count": null,
      "metadata": {
        "id": "EaxDoHDW1ptJ",
        "colab": {
          "base_uri": "https://localhost:8080/"
        },
        "outputId": "837391b3-bac3-48f7-e7d4-7b0e70a463df"
      },
      "outputs": [
        {
          "output_type": "stream",
          "name": "stdout",
          "text": [
            "2020\n"
          ]
        }
      ],
      "source": [
        "# para imprimir a variável criada, utilizamos a função print\n",
        "print(ano)"
      ]
    },
    {
      "cell_type": "code",
      "execution_count": null,
      "metadata": {
        "id": "JKIO4wni1ptJ",
        "colab": {
          "base_uri": "https://localhost:8080/"
        },
        "outputId": "a6cdb5a6-a3ea-47f9-e200-3a45d85f40ac"
      },
      "outputs": [
        {
          "output_type": "stream",
          "name": "stdout",
          "text": [
            "2020\n",
            "2021\n"
          ]
        }
      ],
      "source": [
        "# Tem diferença?\n",
        "print(2020)\n",
        "ano = 2021\n",
        "print(ano)"
      ]
    },
    {
      "cell_type": "markdown",
      "metadata": {
        "id": "wRgmFeBY1ptJ"
      },
      "source": [
        "Ao utilizarmos variáveis, em vez de simplesmente escrever o valor que desejamos, a variável nos traz a vantagem de ser, como o próprio nome já diz, variável. Dessa forma, podemos modificar a variável nos momentos que acharmos necessários.\n",
        "\n",
        "Em um código longo, se você utiliza o mesmo valor em diversas operações, é interessante que você o armazene como uma variável. Dessa maneira, caso você precise trocar o valor desejado, basta apenas mudá-lo uma única vez."
      ]
    },
    {
      "cell_type": "code",
      "execution_count": null,
      "metadata": {
        "id": "aYSQRGJ61ptJ",
        "colab": {
          "base_uri": "https://localhost:8080/"
        },
        "outputId": "b2d700e1-48be-4d83-f961-52eede356783"
      },
      "outputs": [
        {
          "output_type": "stream",
          "name": "stdout",
          "text": [
            "23\n",
            "24\n"
          ]
        }
      ],
      "source": [
        "idade = 23\n",
        "print(idade)\n",
        "idade = 24\n",
        "print(idade)"
      ]
    },
    {
      "cell_type": "markdown",
      "metadata": {
        "id": "185rYvv11ptJ"
      },
      "source": [
        "**ATENÇÃO:**\n",
        "* Nomes compostos de variáveis são separados por _. Esse método de nomeação é conhecido como snake case.\n",
        "* Nomes não podem começar com números, porém podem conter números\n",
        "* Se sua variável foi criada para armazenar um valor específico e que não muda, utilizamos letras maiúsculas (são as chamadas constantes)."
      ]
    },
    {
      "cell_type": "code",
      "execution_count": null,
      "metadata": {
        "id": "y6KJLspG1ptK"
      },
      "outputs": [],
      "source": [
        "# snake case\n",
        "idade_pai = 60\n",
        "paises_visitados = 90"
      ]
    },
    {
      "cell_type": "code",
      "execution_count": null,
      "metadata": {
        "id": "JAxJjpKT1ptK"
      },
      "outputs": [],
      "source": [
        "# Constantes\n",
        "PI = 3.14159"
      ]
    },
    {
      "cell_type": "markdown",
      "metadata": {
        "id": "xtOfhvs01ptK"
      },
      "source": [
        "## Tipagem de Dados"
      ]
    },
    {
      "cell_type": "markdown",
      "metadata": {
        "id": "tz0Gpi6z1ptK"
      },
      "source": [
        "Em Python temos, basicamente, 4 tipos de variáveis:\n",
        "- Integer (int)\n",
        "- Float (float)\n",
        "- Strings (str)\n",
        "- Booleanos (bool)"
      ]
    },
    {
      "cell_type": "code",
      "execution_count": null,
      "metadata": {
        "id": "dBcM1TV11ptK",
        "colab": {
          "base_uri": "https://localhost:8080/"
        },
        "outputId": "ce22a232-d1b8-41ef-9433-5534b9e1ad6f"
      },
      "outputs": [
        {
          "output_type": "execute_result",
          "data": {
            "text/plain": [
              "int"
            ]
          },
          "metadata": {},
          "execution_count": 15
        }
      ],
      "source": [
        "# Inteiros são aqueles números usados para contar\n",
        "numero_laranjas = 10\n",
        "# Para consultar o tipo de uma variável\n",
        "type(numero_laranjas)"
      ]
    },
    {
      "cell_type": "code",
      "execution_count": null,
      "metadata": {
        "id": "jaF03r011ptK",
        "colab": {
          "base_uri": "https://localhost:8080/",
          "height": 110
        },
        "outputId": "59a2d16f-a70f-4ada-8c87-8d70aeaeb7a9"
      },
      "outputs": [
        {
          "output_type": "error",
          "ename": "SyntaxError",
          "evalue": "invalid syntax (<ipython-input-16-bba31b0a13af>, line 4)",
          "traceback": [
            "\u001b[0;36m  File \u001b[0;32m\"<ipython-input-16-bba31b0a13af>\"\u001b[0;36m, line \u001b[0;32m4\u001b[0m\n\u001b[0;31m    ***(nota_prova)\u001b[0m\n\u001b[0m    ^\u001b[0m\n\u001b[0;31mSyntaxError\u001b[0m\u001b[0;31m:\u001b[0m invalid syntax\n"
          ]
        }
      ],
      "source": [
        "# Floats são os números decimais\n",
        "nota_prova = 9.5\n",
        "# Consultando o tipo\n",
        "***(nota_prova)"
      ]
    },
    {
      "cell_type": "code",
      "execution_count": null,
      "metadata": {
        "id": "ju8rofty1ptK"
      },
      "outputs": [],
      "source": [
        "# String são cadeias de caracteres\n",
        "nome_professor = 'Bruno'\n",
        "# Consultando o tipo\n",
        "type(****)"
      ]
    },
    {
      "cell_type": "code",
      "execution_count": null,
      "metadata": {
        "id": "jBa8GQjL1ptL"
      },
      "outputs": [],
      "source": [
        "# booleanos geralmente guardam o resultado de uma operação lógica\n",
        "pele_maior_maradona = True\n",
        "# Consultando o tipo\n",
        "type(pele_maior_maradona)"
      ]
    },
    {
      "cell_type": "markdown",
      "metadata": {
        "id": "1Vxk3fp01ptL"
      },
      "source": [
        "### str(), int() e float()"
      ]
    },
    {
      "cell_type": "code",
      "execution_count": null,
      "metadata": {
        "id": "Q61jQvSS1ptL"
      },
      "outputs": [],
      "source": [
        "str(29)"
      ]
    },
    {
      "cell_type": "code",
      "execution_count": null,
      "metadata": {
        "id": "fNpS6fZG1ptL"
      },
      "outputs": [],
      "source": [
        "type(str(-3.14))"
      ]
    },
    {
      "cell_type": "code",
      "execution_count": null,
      "metadata": {
        "id": "J0Z4Be5H1ptL"
      },
      "outputs": [],
      "source": [
        "int('7')"
      ]
    },
    {
      "cell_type": "markdown",
      "metadata": {
        "id": "kex0Rucw1ptL"
      },
      "source": [
        "# Operadores Matemáticos e de Comparação"
      ]
    },
    {
      "cell_type": "markdown",
      "metadata": {
        "id": "EGELKekK1ptL"
      },
      "source": [
        "## Operadores Matemáticos"
      ]
    },
    {
      "cell_type": "markdown",
      "metadata": {
        "id": "ieRnjCmy1ptL"
      },
      "source": [
        "Os operadores matemáticos básicos em Python são:\n",
        "- `+` (adição)\n",
        "- `-` (subtração)\n",
        "- `*` (multiplicação)\n",
        "- `/` (divisão)\n",
        "- `//` (divisão inteira)\n",
        "- `%` (operador resto)\n",
        "- `**` (exponenciação)"
      ]
    },
    {
      "cell_type": "markdown",
      "metadata": {
        "id": "673t4GTJ1ptL"
      },
      "source": [
        "Ordem de execução:\n",
        "- Parênteses\n",
        "- Multiplicação e Divisão\n",
        "- Adição e Subtração"
      ]
    },
    {
      "cell_type": "code",
      "execution_count": null,
      "metadata": {
        "id": "hMVsTlGM1ptL"
      },
      "outputs": [],
      "source": [
        "# Qual resultado da expressão abaixo?\n",
        "1 + 3 * 4 / 3 - 2"
      ]
    },
    {
      "cell_type": "code",
      "execution_count": null,
      "metadata": {
        "id": "n05-bym71ptL"
      },
      "outputs": [],
      "source": [
        "# Qual resultado da expressão abaixo?\n",
        "(1 + 3) * 4 / (3 - 2)"
      ]
    },
    {
      "cell_type": "code",
      "execution_count": null,
      "metadata": {
        "id": "a3LB9Vi81ptL",
        "outputId": "38aa7be9-84d4-49b0-f325-9470338a846f",
        "colab": {
          "base_uri": "https://localhost:8080/"
        }
      },
      "outputs": [
        {
          "output_type": "execute_result",
          "data": {
            "text/plain": [
              "3"
            ]
          },
          "metadata": {},
          "execution_count": 1
        }
      ],
      "source": [
        "# Operador Resto\n",
        "19%8"
      ]
    },
    {
      "cell_type": "code",
      "execution_count": null,
      "metadata": {
        "id": "Ex24seFG1ptM"
      },
      "outputs": [],
      "source": [
        "# Parte inteira da divisão\n",
        "20//4.5"
      ]
    },
    {
      "cell_type": "code",
      "execution_count": null,
      "metadata": {
        "id": "aiwPql4L1ptM"
      },
      "outputs": [],
      "source": [
        "# O resultado da divisão seria\n",
        "20/4.5"
      ]
    },
    {
      "cell_type": "markdown",
      "metadata": {
        "id": "ukas0CKc1ptM"
      },
      "source": [
        "### Área do Círculo"
      ]
    },
    {
      "cell_type": "markdown",
      "metadata": {
        "id": "T9o9Dwlq1ptM"
      },
      "source": [
        "![Área do Círculo](https://www.onlinemathlearning.com/image-files/area-of-circle.png)"
      ]
    },
    {
      "cell_type": "code",
      "execution_count": null,
      "metadata": {
        "id": "INaklR0M1ptM"
      },
      "outputs": [],
      "source": [
        "# Área do Círculo\n",
        "PI = 3.14\n",
        "raio = 2\n",
        "area = ??? # utilizamos o ** para potenciação\n",
        "print(area)"
      ]
    },
    {
      "cell_type": "markdown",
      "metadata": {
        "id": "313Sud7s1ptM"
      },
      "source": [
        "## Operadores de Comparação"
      ]
    },
    {
      "cell_type": "markdown",
      "metadata": {
        "id": "nq89PsWX1ptQ"
      },
      "source": [
        "Usamos os comparadores para comparar os valores de diferentes variáveis (mas não necessariamente precisa ser uma variável)"
      ]
    },
    {
      "cell_type": "markdown",
      "metadata": {
        "id": "7tWb2aYR1ptQ"
      },
      "source": [
        "Operadores mais importantes:\n",
        "\n",
        "- A == B  (vamos verificar se A é igual a B)\n",
        "- A > B (vamos verificar se A é maior que B)\n",
        "- A < B (vamos verificar se B é maior que A)\n",
        "- A >= B (vamos verificar se A é maior ou igual a B)\n",
        "- A != B (Vamos verificar se A é diferente de B)"
      ]
    },
    {
      "cell_type": "code",
      "execution_count": null,
      "metadata": {
        "id": "Qr6ZFLWV1ptQ"
      },
      "outputs": [],
      "source": [
        "num1 = 3\n",
        "num2 = 4"
      ]
    },
    {
      "cell_type": "code",
      "execution_count": null,
      "metadata": {
        "id": "jYXZjosS1ptR"
      },
      "outputs": [],
      "source": [
        "num1 == num2"
      ]
    },
    {
      "cell_type": "code",
      "execution_count": null,
      "metadata": {
        "id": "LzxTABEN1ptR"
      },
      "outputs": [],
      "source": [
        "num1 > num2"
      ]
    },
    {
      "cell_type": "code",
      "execution_count": null,
      "metadata": {
        "id": "jxbxH6BS1ptR"
      },
      "outputs": [],
      "source": [
        "num1 < num2"
      ]
    },
    {
      "cell_type": "code",
      "execution_count": null,
      "metadata": {
        "id": "Z9l1oiDL1ptR"
      },
      "outputs": [],
      "source": [
        "num1 <= num2"
      ]
    },
    {
      "cell_type": "code",
      "execution_count": null,
      "metadata": {
        "id": "EKj_Syft1ptR"
      },
      "outputs": [],
      "source": [
        "num1 >= num2"
      ]
    },
    {
      "cell_type": "code",
      "execution_count": null,
      "metadata": {
        "id": "VSdvvtcH1ptR"
      },
      "outputs": [],
      "source": [
        "num1 != num2"
      ]
    },
    {
      "cell_type": "code",
      "execution_count": null,
      "metadata": {
        "id": "jR-gmjLU1ptR"
      },
      "outputs": [],
      "source": [
        "'hello' == 'hell'"
      ]
    },
    {
      "cell_type": "code",
      "execution_count": null,
      "metadata": {
        "id": "4S27MfVI1ptR"
      },
      "outputs": [],
      "source": [
        "'dog' != 'cat'"
      ]
    },
    {
      "cell_type": "code",
      "execution_count": null,
      "metadata": {
        "id": "5foV-zKg1ptR"
      },
      "outputs": [],
      "source": [
        "42 == '42'"
      ]
    },
    {
      "cell_type": "markdown",
      "metadata": {
        "id": "Dhs8T_ca1ptR"
      },
      "source": [
        "# Entrada/Saída de Dados"
      ]
    },
    {
      "cell_type": "markdown",
      "metadata": {
        "id": "ORM0n9t21ptR"
      },
      "source": [
        "## Saída de Dados"
      ]
    },
    {
      "cell_type": "markdown",
      "metadata": {
        "id": "5103YLFO1ptS"
      },
      "source": [
        "Anteriormente, já vimos o que é a saída de dados. A utilizamos quando usamos o comando `print`"
      ]
    },
    {
      "cell_type": "code",
      "execution_count": null,
      "metadata": {
        "id": "fwjRkmLs1ptS"
      },
      "outputs": [],
      "source": [
        "# Variável Nome\n",
        "nome = 'Bruno'\n",
        "# Variável Idade\n",
        "idade = 23"
      ]
    },
    {
      "cell_type": "code",
      "execution_count": null,
      "metadata": {
        "id": "0g6cDpZG1ptS",
        "outputId": "20532777-73d1-4326-96ab-8d62a00c6529",
        "colab": {
          "base_uri": "https://localhost:8080/"
        }
      },
      "outputs": [
        {
          "output_type": "stream",
          "name": "stdout",
          "text": [
            "Bruno\n"
          ]
        }
      ],
      "source": [
        "print(nome)"
      ]
    },
    {
      "cell_type": "code",
      "execution_count": null,
      "metadata": {
        "id": "tZMcc2x21ptS",
        "outputId": "66b2be81-3215-4577-a35c-96155f843a95",
        "colab": {
          "base_uri": "https://localhost:8080/"
        }
      },
      "outputs": [
        {
          "output_type": "stream",
          "name": "stdout",
          "text": [
            "23\n"
          ]
        }
      ],
      "source": [
        "print(idade)"
      ]
    },
    {
      "cell_type": "markdown",
      "metadata": {
        "id": "kUDt4_oJ1ptS"
      },
      "source": [
        "Porém, podemos ir além e usar o comando print para escrever frases de uma forma dinâmica"
      ]
    },
    {
      "cell_type": "code",
      "execution_count": null,
      "metadata": {
        "id": "pwPdyA4u1ptS",
        "outputId": "8356f3d8-7ca8-4bbb-cc10-7d473c46d297",
        "colab": {
          "base_uri": "https://localhost:8080/"
        }
      },
      "outputs": [
        {
          "output_type": "stream",
          "name": "stdout",
          "text": [
            "Oi, meu nome é Bruno e eu tenho 23 anos.\n"
          ]
        }
      ],
      "source": [
        "# Podemos utilizar o comando .format()\n",
        "print('Oi, meu nome é {} e eu tenho {} anos.'.format(nome,idade))"
      ]
    },
    {
      "cell_type": "markdown",
      "metadata": {
        "id": "qUhTGxcf1ptS"
      },
      "source": [
        "Mais sobre .format() [Aqui](https://www.w3schools.com/python/ref_string_format.asp)"
      ]
    },
    {
      "cell_type": "code",
      "execution_count": null,
      "metadata": {
        "id": "yRn6Apoh1ptS",
        "outputId": "218dd505-70b9-4ccb-ba02-b51b6f4d9736",
        "colab": {
          "base_uri": "https://localhost:8080/"
        }
      },
      "outputs": [
        {
          "output_type": "stream",
          "name": "stdout",
          "text": [
            "Oi, meu nome é Bruno e eu tenho 23 anos.\n"
          ]
        }
      ],
      "source": [
        "# Podemos utilizar as f strings\n",
        "print(f'Oi, meu nome é {nome} e eu tenho {idade} anos.')"
      ]
    },
    {
      "cell_type": "markdown",
      "metadata": {
        "id": "oBfhkc7a1ptS"
      },
      "source": [
        "Opte por utilizar as f strings, o comando .format() já não é mais utilizado em grande escala"
      ]
    },
    {
      "cell_type": "markdown",
      "metadata": {
        "id": "Hzob-FYQ1ptT"
      },
      "source": [
        "## Entrada de Dados"
      ]
    },
    {
      "cell_type": "markdown",
      "metadata": {
        "id": "naaRGEOX1ptT"
      },
      "source": [
        "Às vezes, precisamos que o nosso dado venha de fora, ou seja, alguém, ou algum sistema precisa nos transmitir essa informação.\n",
        "\n",
        "Uma das formas de interagir com um usuário é por meio do comando `input`"
      ]
    },
    {
      "cell_type": "code",
      "execution_count": null,
      "metadata": {
        "id": "UK12a-yX1ptT",
        "outputId": "5a8c87f9-9eb8-4094-fe8f-b88b4c12a6c0",
        "colab": {
          "base_uri": "https://localhost:8080/"
        }
      },
      "outputs": [
        {
          "output_type": "stream",
          "name": "stdout",
          "text": [
            "Informe Sua idade: 18\n",
            "18\n"
          ]
        }
      ],
      "source": [
        "idade = input('Informe Sua idade: ')\n",
        "print(idade)"
      ]
    },
    {
      "cell_type": "code",
      "execution_count": null,
      "metadata": {
        "id": "ATWfdYnh1ptT"
      },
      "outputs": [],
      "source": [
        "idade = int(input('Informe Sua idade: '))\n",
        "print(idade)"
      ]
    },
    {
      "cell_type": "code",
      "execution_count": null,
      "metadata": {
        "id": "yVkeMsCp1ptT"
      },
      "outputs": [],
      "source": [
        "idade = int(input('Informe Sua idade: '))\n",
        "print(f'Sua idade é: {idade}')"
      ]
    },
    {
      "cell_type": "markdown",
      "metadata": {
        "id": "dnjmJPjf1ptU"
      },
      "source": [
        "# Exercícios"
      ]
    },
    {
      "cell_type": "markdown",
      "metadata": {
        "id": "_92XVy6J1ptV"
      },
      "source": [
        "**Escreva um programa que peça dois números ao usuário e exiba a soma deles.**"
      ]
    },
    {
      "cell_type": "code",
      "execution_count": null,
      "metadata": {
        "id": "xbxWbRNr1ptV"
      },
      "outputs": [],
      "source": []
    },
    {
      "cell_type": "markdown",
      "metadata": {
        "id": "4i9VQfbH1ptV"
      },
      "source": [
        "**Escreva um programa que solicite o raio de um círculo ao usuário e calcule sua área.**"
      ]
    },
    {
      "cell_type": "code",
      "execution_count": null,
      "metadata": {
        "id": "LeK9J2cQ1ptV"
      },
      "outputs": [],
      "source": []
    },
    {
      "cell_type": "markdown",
      "metadata": {
        "id": "79MSUk4A1ptV"
      },
      "source": [
        "**Escreva um programa que verifique se um número é par ou ímpar.**"
      ]
    },
    {
      "cell_type": "code",
      "execution_count": null,
      "metadata": {
        "id": "LpSIBhIr1ptV"
      },
      "outputs": [],
      "source": []
    }
  ],
  "metadata": {
    "language_info": {
      "name": "python"
    },
    "colab": {
      "provenance": [],
      "include_colab_link": true
    },
    "kernelspec": {
      "name": "python3",
      "display_name": "Python 3"
    }
  },
  "nbformat": 4,
  "nbformat_minor": 0
}