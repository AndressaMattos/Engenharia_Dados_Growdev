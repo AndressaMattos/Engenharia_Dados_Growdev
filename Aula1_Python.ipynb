{
  "cells": [
    {
      "cell_type": "markdown",
      "metadata": {
        "id": "view-in-github",
        "colab_type": "text"
      },
      "source": [
        "<a href=\"https://colab.research.google.com/github/AndressaMattos/Engenharia_Dados_Growdev/blob/main/Aula1_Python.ipynb\" target=\"_parent\"><img src=\"https://colab.research.google.com/assets/colab-badge.svg\" alt=\"Open In Colab\"/></a>"
      ]
    },
    {
      "cell_type": "markdown",
      "metadata": {
        "id": "vXfh6IqT1u7n"
      },
      "source": [
        "![Growdev](https://www.growdev.com.br/assets/images/logo_growdev.png)"
      ]
    },
    {
      "cell_type": "markdown",
      "metadata": {
        "id": "tPBQ_9yd1u7s"
      },
      "source": [
        "![Formação Engenharia de Dados](https://d335luupugsy2.cloudfront.net/cms/files/524558/1707226566/$occu5m8t1op)"
      ]
    },
    {
      "cell_type": "markdown",
      "metadata": {
        "id": "Ml3BcAfz1u7t"
      },
      "source": [
        "# Tópicos da Aula de Hoje"
      ]
    },
    {
      "cell_type": "markdown",
      "metadata": {
        "id": "Y2_xC1PM1u7t"
      },
      "source": [
        "- Recap\n",
        "- Condicionais: If/Else/Elif\n",
        "- Operadores Lógicos e Tabela Verdade\n",
        "- Teste de Mesa\n",
        "- Sintaxe de Identação e Comentários\n",
        "- Exercícios"
      ]
    },
    {
      "cell_type": "markdown",
      "metadata": {
        "id": "sokat0jQ1u7u"
      },
      "source": [
        "**Bora pra aula?**"
      ]
    },
    {
      "cell_type": "markdown",
      "metadata": {
        "id": "zuVfxDzO1u7v"
      },
      "source": [
        "# Recap"
      ]
    },
    {
      "cell_type": "markdown",
      "metadata": {
        "id": "fmGhpISe1u7v"
      },
      "source": [
        "Na aula anterior vimos:\n",
        "- Variáveis e Tipagem de Dados\n",
        "- Operadores Matemáticos e de Comparação\n",
        "- Entrada/Saída de Dados"
      ]
    },
    {
      "cell_type": "markdown",
      "metadata": {
        "id": "5QQtA1hi1u7w"
      },
      "source": [
        "## Variáveis e Tipagem de Dados"
      ]
    },
    {
      "cell_type": "code",
      "execution_count": null,
      "metadata": {
        "id": "fq4ZpPJz1u7w"
      },
      "outputs": [],
      "source": [
        "# podemos definir uma variável dando um nome\n",
        "ano = 2020"
      ]
    },
    {
      "cell_type": "markdown",
      "metadata": {
        "id": "bxt-WVrn1u7y"
      },
      "source": [
        "Em Python temos, basicamente, 4 tipos de variáveis:\n",
        "- Integer (int)\n",
        "- Float (float)\n",
        "- Strings (str)\n",
        "- Booleanos (bool)"
      ]
    },
    {
      "cell_type": "code",
      "execution_count": null,
      "metadata": {
        "id": "66MsWQr31u7y"
      },
      "outputs": [],
      "source": [
        "# Inteiros são aqueles números usados para contar\n",
        "numero_laranjas = 10\n",
        "# Para consultar o tipo de uma variável\n",
        "type(numero_laranjas)"
      ]
    },
    {
      "cell_type": "code",
      "execution_count": null,
      "metadata": {
        "id": "S0VuNidG1u7y"
      },
      "outputs": [],
      "source": [
        "# Floats são os números decimais\n",
        "nota_prova = 9.5\n",
        "# Consultando o tipo\n",
        "type(nota_prova)"
      ]
    },
    {
      "cell_type": "code",
      "execution_count": null,
      "metadata": {
        "id": "1Diy0yEy1u7z"
      },
      "outputs": [],
      "source": [
        "# String são cadeias de caracteres\n",
        "nome_professor = 'Bruno'\n",
        "# Consultando o tipo\n",
        "type(nome_professor)"
      ]
    },
    {
      "cell_type": "code",
      "execution_count": null,
      "metadata": {
        "id": "aTepgIJN1u7z"
      },
      "outputs": [],
      "source": [
        "# booleanos geralmente guardam o resultado de uma operação lógica\n",
        "pele_maior_maradona = True\n",
        "# Consultando o tipo\n",
        "type(pele_maior_maradona)"
      ]
    },
    {
      "cell_type": "code",
      "execution_count": null,
      "metadata": {
        "id": "8LcdTHkF1u7z"
      },
      "outputs": [],
      "source": [
        "str(29)"
      ]
    },
    {
      "cell_type": "code",
      "execution_count": null,
      "metadata": {
        "id": "T1zEWsmX1u7z"
      },
      "outputs": [],
      "source": [
        "int('7')"
      ]
    },
    {
      "cell_type": "markdown",
      "metadata": {
        "id": "bD_4h8sj1u70"
      },
      "source": [
        "## Operadores Matemáticos e de Comparação"
      ]
    },
    {
      "cell_type": "markdown",
      "metadata": {
        "id": "qpEH7fzT1u70"
      },
      "source": [
        "Os operadores matemáticos básicos em Python são:\n",
        "- `+` (adição)\n",
        "- `-` (subtração)\n",
        "- `*` (multiplicação)\n",
        "- `/` (divisão)\n",
        "- `//` (divisão inteira)\n",
        "- `%` (operador resto)\n",
        "- `**` (exponenciação)"
      ]
    },
    {
      "cell_type": "markdown",
      "metadata": {
        "id": "r9qvDsfl1u70"
      },
      "source": [
        "Os operadores de comparação em Python são:\n",
        "- A == B  (vamos verificar se A é igual a B)\n",
        "- A > B (vamos verificar se A é maior que B)\n",
        "- A < B (vamos verificar se B é maior que A)\n",
        "- A >= B (vamos verificar se A é maior ou igual a B)\n",
        "- A != B (Vamos verificar se A é diferente de B)"
      ]
    },
    {
      "cell_type": "markdown",
      "metadata": {
        "id": "K-31x-uy1u70"
      },
      "source": [
        "## Entrada/Saída de Dados"
      ]
    },
    {
      "cell_type": "code",
      "execution_count": null,
      "metadata": {
        "id": "MoGssJM61u70"
      },
      "outputs": [],
      "source": [
        "nome = input('Digite seu nome: ')"
      ]
    },
    {
      "cell_type": "code",
      "execution_count": null,
      "metadata": {
        "id": "gnm-5JAS1u70"
      },
      "outputs": [],
      "source": [
        "idade = int(input('Digite a sua idade'))"
      ]
    },
    {
      "cell_type": "code",
      "execution_count": null,
      "metadata": {
        "id": "y01vRkcW1u71"
      },
      "outputs": [],
      "source": [
        "print(f'Oi, meu nome é {nome} e eu tenho {idade} anos.')"
      ]
    },
    {
      "cell_type": "markdown",
      "metadata": {
        "id": "LQfUDK191u71"
      },
      "source": [
        "# Condicionais: If/Else/Elif"
      ]
    },
    {
      "cell_type": "markdown",
      "metadata": {
        "id": "Ltcj4yq61u71"
      },
      "source": [
        "Em algumas ocasiões necessitamos que algo aconteça, se uma determinada condição for atendida, ou algum evento aconteça.\n",
        "\n",
        "```SE``` (condição):<br>\n",
        "```ENTAO``` (execute)<br>\n",
        "```CASO NÃO``` (execute)"
      ]
    },
    {
      "cell_type": "markdown",
      "metadata": {
        "id": "5JVo-4ov1u71"
      },
      "source": [
        "Por exemplo, imagine a média da nota de um aluno. Se a média for ```maior ou igual a 7```, ele é aprovado, caso contrário, ele é reprovado."
      ]
    },
    {
      "cell_type": "code",
      "execution_count": null,
      "metadata": {
        "id": "zCMEK--o1u71",
        "outputId": "143bb49e-6cbb-4c0c-d202-0eb034cb891b"
      },
      "outputs": [
        {
          "name": "stdout",
          "output_type": "stream",
          "text": [
            "Aluno Reprovado!\n"
          ]
        }
      ],
      "source": [
        "media_aluno = 6.5\n",
        "# Se média maior ou igual a 7, então ele é aprovado\n",
        "if media_aluno >=7:\n",
        "    print('Aluno Aprovado!')\n",
        "# Caso contrário, ele está reprovado\n",
        "else:\n",
        "    print('Aluno Reprovado!')"
      ]
    },
    {
      "cell_type": "markdown",
      "metadata": {
        "id": "nyTCfo_n1u72"
      },
      "source": [
        "**E se eu tiver mais de uma condição??**"
      ]
    },
    {
      "cell_type": "code",
      "execution_count": null,
      "metadata": {
        "id": "DP8gr5B91u72",
        "outputId": "632baf77-2663-4e43-8046-0ce8c57c856a"
      },
      "outputs": [
        {
          "name": "stdout",
          "output_type": "stream",
          "text": [
            "Aluno na Recuperação\n"
          ]
        }
      ],
      "source": [
        "# Se média maior ou igual a 7, então ele é aprovado\n",
        "if media_aluno >=7:\n",
        "    print('Aluno Aprovado!')\n",
        "# Caso contrário, se a média é maior ou iguala 5, ele vai pra recuperação\n",
        "else:\n",
        "    if media_aluno >= 5:\n",
        "        print('Aluno na Recuperação')\n",
        "# Caso contrário ele é reprovado\n",
        "    else:\n",
        "        print('Aluno Reprovado!')"
      ]
    },
    {
      "cell_type": "markdown",
      "metadata": {
        "id": "_LopTrDL1u73"
      },
      "source": [
        "Porém, o Python foi feito pra ajudar e não atraplhar. Reparou como o código ficou grande e com várias identações? Será que existe alguma maneira mais fácil de se fazer isso? A resposata é SIM! Pra isso existe o ```elif```"
      ]
    },
    {
      "cell_type": "code",
      "execution_count": null,
      "metadata": {
        "id": "zdaab6u61u73"
      },
      "outputs": [],
      "source": [
        "# Se média maior ou igual a 7, então ele é aprovado\n",
        "if media_aluno >=7:\n",
        "    print('Aluno Aprovado!')\n",
        "# Caso contrário, se a média é maior ou iguala 5, ele vai pra recuperação\n",
        "elif media_aluno >= 5:\n",
        "    print('Aluno na Recuperação')\n",
        "# Caso contrário ele é reprovado\n",
        "else:\n",
        "    print('Aluno Reprovado!')"
      ]
    },
    {
      "cell_type": "markdown",
      "metadata": {
        "id": "3b0yfSJp1u73"
      },
      "source": [
        "# Operadores Lógicos e Tabela Verdade"
      ]
    },
    {
      "cell_type": "markdown",
      "metadata": {
        "id": "wWq7LTDg1u73"
      },
      "source": [
        "Em Python, os operadores lógicos são: AND (e), OR (ou), NOT (não)."
      ]
    },
    {
      "cell_type": "markdown",
      "metadata": {
        "id": "pmOHltJb1u73"
      },
      "source": [
        "Quando usamos ```AND```, esperamos que todas sejam verdadeiras. <br>\n",
        "Quando usamos o ```OR```, precisamos que pelo menos uma condição seja verdadeira. <br>\n",
        "Quando usamos o ```NOT```, alteramos o sentido, ou seja, True vira False e False vira True"
      ]
    },
    {
      "cell_type": "code",
      "execution_count": null,
      "metadata": {
        "id": "PqZTFMjS1u73"
      },
      "outputs": [],
      "source": [
        "idade1 = 20\n",
        "idade2 = 15\n",
        "idade3 = 10"
      ]
    },
    {
      "cell_type": "code",
      "execution_count": null,
      "metadata": {
        "id": "GaP3DSo71u73",
        "outputId": "d04db7ef-2497-4435-9223-4b7db62912c0"
      },
      "outputs": [
        {
          "data": {
            "text/plain": [
              "False"
            ]
          },
          "execution_count": 5,
          "metadata": {},
          "output_type": "execute_result"
        }
      ],
      "source": [
        "# Operador and\n",
        "idade1 > idade2 and idade1 < idade3"
      ]
    },
    {
      "cell_type": "markdown",
      "metadata": {
        "id": "ymomzUNS1u73"
      },
      "source": [
        "Nesse caso, idade1 é maior que idade 2, mas idade1 não é menor que idade3."
      ]
    },
    {
      "cell_type": "code",
      "execution_count": null,
      "metadata": {
        "id": "Ey4he1ID1u73",
        "outputId": "ba9ed747-f36c-4309-e052-452b36927f7e"
      },
      "outputs": [
        {
          "data": {
            "text/plain": [
              "True"
            ]
          },
          "execution_count": 6,
          "metadata": {},
          "output_type": "execute_result"
        }
      ],
      "source": [
        "# Operador or\n",
        "idade1 > idade2 or idade1 < idade3"
      ]
    },
    {
      "cell_type": "markdown",
      "metadata": {
        "id": "Bq4mzp7c1u74"
      },
      "source": [
        "Nesse caso, idade1 > idade2, ou seja, já é suficiente para a comparação inteira ser verdadeira."
      ]
    },
    {
      "cell_type": "code",
      "execution_count": null,
      "metadata": {
        "id": "skHN7Hig1u78",
        "outputId": "97822699-b41f-40b9-e1e6-a46f83050355"
      },
      "outputs": [
        {
          "data": {
            "text/plain": [
              "False"
            ]
          },
          "execution_count": 7,
          "metadata": {},
          "output_type": "execute_result"
        }
      ],
      "source": [
        "# Operador not\n",
        "not True"
      ]
    },
    {
      "cell_type": "code",
      "execution_count": null,
      "metadata": {
        "id": "1_nM91qg1u78",
        "outputId": "0df84346-7a36-4cfd-9190-208108401f77"
      },
      "outputs": [
        {
          "data": {
            "text/plain": [
              "True"
            ]
          },
          "execution_count": 8,
          "metadata": {},
          "output_type": "execute_result"
        }
      ],
      "source": [
        "not False"
      ]
    },
    {
      "cell_type": "markdown",
      "metadata": {
        "id": "miIDNqrz1u78"
      },
      "source": [
        "## Exemplo"
      ]
    },
    {
      "cell_type": "code",
      "execution_count": null,
      "metadata": {
        "id": "rEBo4ZjQ1u79"
      },
      "outputs": [],
      "source": [
        "renda = 5000\n",
        "historico_credito_bom = True"
      ]
    },
    {
      "cell_type": "code",
      "execution_count": null,
      "metadata": {
        "id": "VYclJqjN1u79",
        "outputId": "07089d14-01bd-48ee-9128-b8e8d0f43097"
      },
      "outputs": [
        {
          "name": "stdout",
          "output_type": "stream",
          "text": [
            "Você é elegível para o empréstimo.\n"
          ]
        }
      ],
      "source": [
        "if renda > 3000 and historico_credito_bom:\n",
        "    print(\"Você é elegível para o empréstimo.\")\n",
        "else:\n",
        "    print(\"Você não é elegível para o empréstimo.\")"
      ]
    },
    {
      "cell_type": "markdown",
      "metadata": {
        "id": "IS8olI6S1u79"
      },
      "source": [
        "# Teste de Mesa"
      ]
    },
    {
      "cell_type": "markdown",
      "metadata": {
        "id": "hCzPcI431u79"
      },
      "source": [
        "O teste de mesa é uma técnica para verificar a correção de um programa, seguindo a execução passo a passo."
      ]
    },
    {
      "cell_type": "code",
      "execution_count": null,
      "metadata": {
        "id": "vwVan-TK1u79"
      },
      "outputs": [],
      "source": [
        "# renda = 5000\n",
        "# historico_credito_bom = True"
      ]
    },
    {
      "cell_type": "code",
      "execution_count": null,
      "metadata": {
        "id": "I3AmTCHL1u79"
      },
      "outputs": [],
      "source": [
        "# renda > 3000"
      ]
    },
    {
      "cell_type": "code",
      "execution_count": null,
      "metadata": {
        "id": "TYnMNlPn1u79"
      },
      "outputs": [],
      "source": [
        "# historico_credito_bom"
      ]
    },
    {
      "cell_type": "code",
      "execution_count": null,
      "metadata": {
        "id": "WLP9sYGQ1u79"
      },
      "outputs": [],
      "source": [
        "# True and True"
      ]
    },
    {
      "cell_type": "code",
      "execution_count": null,
      "metadata": {
        "id": "LeQW8Iwy1u79"
      },
      "outputs": [],
      "source": [
        "# renda > 3000 and historico_credito_bom"
      ]
    },
    {
      "cell_type": "code",
      "execution_count": null,
      "metadata": {
        "id": "RzRpF2l11u79"
      },
      "outputs": [],
      "source": [
        "# if renda > 3000 and historico_credito_bom:\n",
        "#     print(\"Você é elegível para o empréstimo.\")\n",
        "# else:\n",
        "#     print(\"Você não é elegível para o empréstimo.\")"
      ]
    },
    {
      "cell_type": "markdown",
      "metadata": {
        "id": "M07L3rbx1u7-"
      },
      "source": [
        "# Sintaxe de Identação e Comentários"
      ]
    },
    {
      "cell_type": "markdown",
      "metadata": {
        "id": "54cQzVb31u7-"
      },
      "source": [
        "**Identação:** Em Python, a indentação é crucial para indicar blocos de código dentro de estruturas como IF/ELSE."
      ]
    },
    {
      "cell_type": "code",
      "execution_count": null,
      "metadata": {
        "id": "mS3_I2101u7-"
      },
      "outputs": [],
      "source": [
        "idade = 20\n",
        "if idade >= 18:\n",
        "    print(\"Você é maior de idade.\")\n",
        "else:\n",
        "    print(\"Você é menor de idade.\")"
      ]
    },
    {
      "cell_type": "markdown",
      "metadata": {
        "id": "wI1Kg0Dz1u7-"
      },
      "source": [
        "**Comentários:** Em Python, são textos explicativos que são ignorados pelo interpretador. Eles são usados para documentar o código e torná-lo mais legível para outros programadores."
      ]
    },
    {
      "cell_type": "code",
      "execution_count": null,
      "metadata": {
        "id": "dSv0xOVs1u7-"
      },
      "outputs": [],
      "source": [
        "idade = 20  # Define a variável idade como 20"
      ]
    },
    {
      "cell_type": "markdown",
      "metadata": {
        "id": "54x6UR4V1u7-"
      },
      "source": [
        "# Exercícios"
      ]
    },
    {
      "cell_type": "markdown",
      "metadata": {
        "id": "oCUWPivY1u7-"
      },
      "source": [
        "**Escreva um programa que solicite um número ao usuário e determine se é par ou ímpar**"
      ]
    },
    {
      "cell_type": "code",
      "execution_count": null,
      "metadata": {
        "id": "hCNQhHNx1u7-",
        "colab": {
          "base_uri": "https://localhost:8080/"
        },
        "outputId": "a2814660-9eb6-478e-e90a-3c97a91db798"
      },
      "outputs": [
        {
          "output_type": "stream",
          "name": "stdout",
          "text": [
            "Informe um número inteiro:10\n",
            "O número é par!\n"
          ]
        }
      ],
      "source": [
        "numero = int(input('Informe um número inteiro:'))\n",
        "\n",
        "if numero%2:\n",
        "  print(f'O número é ímpar!')\n",
        "else:\n",
        "  print(f'O número é par!')\n",
        "\n",
        "  #print('O número é par' if int(input(\"digíte um número:\"))% 2 == 0 else 'O número é ímpar')\n",
        "  #resultado = 'Ímpar' if num % 2 != 0 else 'Par'"
      ]
    },
    {
      "cell_type": "markdown",
      "metadata": {
        "id": "56vZftYm1u7-"
      },
      "source": [
        "**Escreva um programa que solicite os comprimentos dos lados de um triângulo e determine se ele é equilátero, isósceles ou escaleno.**\n",
        "\n",
        "Um triângulo equilátero tem todos os lados iguais, um triângulo isósceles tem dois lados iguais e um triângulo escaleno tem todos os lados diferentes."
      ]
    },
    {
      "cell_type": "code",
      "execution_count": null,
      "metadata": {
        "id": "5vdRaDtq1u7-",
        "colab": {
          "base_uri": "https://localhost:8080/"
        },
        "outputId": "70704369-d26f-48f9-e1b0-173f4508033b"
      },
      "outputs": [
        {
          "output_type": "stream",
          "name": "stdout",
          "text": [
            "Informe a medida do lado A do triângulo: 5\n",
            "Informe a medida do lado B do triângulo: 5\n",
            "Informe a medida do lado C do triângulo: 5\n",
            "Triângulo equilátero(Todos os lados iguais)\n"
          ]
        }
      ],
      "source": [
        "lado1 = float(input('Informe a medida do lado A do triângulo: '))\n",
        "lado2 = float(input('Informe a medida do lado B do triângulo: '))\n",
        "lado3 = float(input('Informe a medida do lado C do triângulo: '))\n",
        "\n",
        "if lado1 == lado2 == lado3:\n",
        "    result = \"equilátero\"\n",
        "elif lado1 == lado2 or lado1 == lado3 or lado2 == lado3:\n",
        "    result = \"isósceles\"\n",
        "else:\n",
        "    result = \"escaleno\"\n",
        "\n",
        "print(\"O triângulo é\", result)\n",
        "\n",
        "'''\n",
        "if lado1==lado2==lado3:\n",
        "    print('Equilátero')\n",
        "elif lado1!=lado2!=lado3:\n",
        "    print('Escaleno')\n",
        "else:\n",
        "    print('Isósceles')'''"
      ]
    },
    {
      "cell_type": "markdown",
      "metadata": {
        "id": "StU63cB21u7-"
      },
      "source": [
        "**Escreva um programa que solicite a idade de uma pessoa e imprima se ela é criança, adolescente, adulta ou idosa.**\n",
        "\n",
        "Considere as seguintes faixas etárias:\n",
        "- Criança: até 12 anos\n",
        "- Adolescente: de 13 a 17 anos\n",
        "- Adulto: de 18 a 59 anos\n",
        "- Idoso: 60 anos ou mais"
      ]
    },
    {
      "cell_type": "code",
      "execution_count": null,
      "metadata": {
        "id": "l884Uqg81u7_",
        "colab": {
          "base_uri": "https://localhost:8080/"
        },
        "outputId": "dc33984d-fc8d-46cf-a240-cbe52365b584"
      },
      "outputs": [
        {
          "output_type": "stream",
          "name": "stdout",
          "text": [
            "Informe sua idade:60\n",
            "A pessoa é um(a) idoso (a)\n"
          ]
        }
      ],
      "source": [
        "idade = int(input('Informe sua idade:'))\n",
        "\n",
        "if idade <= 12:\n",
        "  print ('A pessoa é um(a) criança')\n",
        "elif idade >=13 and idade <= 17:\n",
        "  print ('A pessoa é um(a) adolescente')\n",
        "elif idade >= 18 and idade <=59:\n",
        "  print ('A pessoa é um(a) adulto (a)')\n",
        "else:\n",
        "  print ('A pessoa é um(a) idoso (a)')\n"
      ]
    }
  ],
  "metadata": {
    "kernelspec": {
      "display_name": "base",
      "language": "python",
      "name": "python3"
    },
    "language_info": {
      "codemirror_mode": {
        "name": "ipython",
        "version": 3
      },
      "file_extension": ".py",
      "mimetype": "text/x-python",
      "name": "python",
      "nbconvert_exporter": "python",
      "pygments_lexer": "ipython3",
      "version": "3.10.9"
    },
    "colab": {
      "provenance": [],
      "include_colab_link": true
    }
  },
  "nbformat": 4,
  "nbformat_minor": 0
}