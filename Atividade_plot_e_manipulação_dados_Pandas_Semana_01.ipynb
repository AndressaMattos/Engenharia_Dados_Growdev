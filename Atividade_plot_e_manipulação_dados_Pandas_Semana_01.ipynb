{
  "nbformat": 4,
  "nbformat_minor": 0,
  "metadata": {
    "colab": {
      "provenance": [],
      "include_colab_link": true
    },
    "kernelspec": {
      "name": "python3",
      "display_name": "Python 3"
    },
    "language_info": {
      "name": "python"
    }
  },
  "cells": [
    {
      "cell_type": "markdown",
      "metadata": {
        "id": "view-in-github",
        "colab_type": "text"
      },
      "source": [
        "<a href=\"https://colab.research.google.com/github/AndressaMattos/Engenharia_Dados_Growdev/blob/main/Atividade_plot_e_manipula%C3%A7%C3%A3o_dados_Pandas_Semana_01.ipynb\" target=\"_parent\"><img src=\"https://colab.research.google.com/assets/colab-badge.svg\" alt=\"Open In Colab\"/></a>"
      ]
    },
    {
      "cell_type": "markdown",
      "source": [
        "![Growdev](https://www.growdev.com.br/assets/images/logo_growdev.png)"
      ],
      "metadata": {
        "id": "v8pFWwviib2C"
      }
    },
    {
      "cell_type": "markdown",
      "source": [
        "![Formação Engenharia de Dados](https://d335luupugsy2.cloudfront.net/cms/files/524558/1707226566/$occu5m8t1op)"
      ],
      "metadata": {
        "id": "6Tkl4_HxifXZ"
      }
    },
    {
      "cell_type": "markdown",
      "source": [
        "Este material tem como objetivo incentivar a prática dos conteúdos estudados até o momento, e a pesquisa. Tenha em consideração que o exercício foi pensado para incentivar a prática dos conteúdos estudados até então, porém aprender a pesquisar faz parte do processo de aprendizagem.\n",
        "\n",
        "Fique tranquilo, faça os exercícios com calma, e boa prática!\n"
      ],
      "metadata": {
        "id": "ty7Bzyl1i9bN"
      }
    },
    {
      "cell_type": "markdown",
      "source": [
        "#Orientações:\n",
        "\n",
        " - Faça uma copia deste arquivo\n",
        " - Após concluir os exercicios, suba seu exercicio para o GitHub e compartilhe o link no **google** Classroom\n"
      ],
      "metadata": {
        "id": "DU5-yCQwjx3V"
      }
    },
    {
      "cell_type": "markdown",
      "source": [
        "#Exercícios pandas e plot"
      ],
      "metadata": {
        "id": "EzT810tnlmfE"
      }
    },
    {
      "cell_type": "markdown",
      "source": [
        "As questões a seguir utilizam como base o dataset de venda de jogos eletrônicos disponível no seguinte [link.](https://www.kaggle.com/code/rafa84miranda/vendas-de-jogos-de-videogames/data?select=vgsales.csv)"
      ],
      "metadata": {
        "id": "jPJ5hyxa2cos"
      }
    },
    {
      "cell_type": "markdown",
      "source": [
        "Os campos são:\n",
        "- Rank: posição no ranking de vendas\n",
        "- Name: nome do jogo\n",
        "- Platform: plataforma/console\n",
        "- Year: ano de lançamento\n",
        "- Genre: gênero\n",
        "- Publisher: empresa que publicou o jogo\n",
        "- NA_Sales: vendas na américa do norte (em milhões de dólares)\n",
        "- EU_Sales: vendas na europa (em milhões de dólares)\n",
        "- JP_Sales: vendas no japão (em milhões de dólares)\n",
        "- Other_Sales: outras vendas (em milhões de dólares)\n",
        "- Global_Sales: vendas globais (em milhões de dólares)\n"
      ],
      "metadata": {
        "id": "sYEv1vohLu34"
      }
    },
    {
      "cell_type": "markdown",
      "source": [
        "Qual foi o jogo mais vendido no mundo em 2010?\n",
        "\n"
      ],
      "metadata": {
        "id": "6y7X1dc-MFr1"
      }
    },
    {
      "cell_type": "code",
      "source": [],
      "metadata": {
        "id": "6X6M5T7EMb-G"
      },
      "execution_count": null,
      "outputs": []
    },
    {
      "cell_type": "markdown",
      "source": [
        "Qual foi a empresa que mais vendeu de 2005 até 2016 - Construa um gráfico de barras para apresentar\n"
      ],
      "metadata": {
        "id": "FgEq2x_mMicx"
      }
    },
    {
      "cell_type": "code",
      "source": [],
      "metadata": {
        "id": "EFe-4pq8NGRf"
      },
      "execution_count": null,
      "outputs": []
    },
    {
      "cell_type": "markdown",
      "source": [
        "Qual o nome do jogo que menos foi vendido em 2008 do gênero Sports.\n"
      ],
      "metadata": {
        "id": "VFXayO6DNJ3F"
      }
    },
    {
      "cell_type": "code",
      "source": [],
      "metadata": {
        "id": "JUO0B9kWNcCX"
      },
      "execution_count": null,
      "outputs": []
    },
    {
      "cell_type": "markdown",
      "source": [
        "Qual o percentual relacionado às vendas globais de jogos de Wii (excluindo-se América do norte, japão e europa) de 2006 até 2010?\n",
        "\n",
        "\n",
        "\n"
      ],
      "metadata": {
        "id": "aqaMxrGMNhQv"
      }
    },
    {
      "cell_type": "code",
      "source": [],
      "metadata": {
        "id": "yoT1FXJSzKwj"
      },
      "execution_count": null,
      "outputs": []
    },
    {
      "cell_type": "markdown",
      "source": [
        "Mostre um gráfico de linhas com as vendas em diferentes plataformas ao longo dos anos.\n"
      ],
      "metadata": {
        "id": "jMjZzRxr29TF"
      }
    },
    {
      "cell_type": "code",
      "source": [],
      "metadata": {
        "id": "ZWpciLPN3Ckx"
      },
      "execution_count": null,
      "outputs": []
    },
    {
      "cell_type": "markdown",
      "source": [
        "Mostre um gráfico de pizza com o percentual de vendas dos diferentes gêneros de jogos.\n",
        "\n",
        "\n"
      ],
      "metadata": {
        "id": "fDxIIqqS3DHs"
      }
    },
    {
      "cell_type": "code",
      "source": [],
      "metadata": {
        "id": "M85a5qNt3E2y"
      },
      "execution_count": null,
      "outputs": []
    },
    {
      "cell_type": "markdown",
      "source": [
        "#Exercícios_pandas"
      ],
      "metadata": {
        "id": "ke3v3Xd8-wmR"
      }
    },
    {
      "cell_type": "markdown",
      "source": [
        "Utilize os arquivos [livros.csv](https://drive.google.com/file/d/1fzuUyFxhzhE9U4_-i3IIUTwvgr3QG1Hj/view?usp=sharing), [livros_genero.csv](https://drive.google.com/file/d/1Cww5lAb7l_LQXVhH1ieyIOWIrqorNKcn/view?usp=sharing) e [livros_classicos.csv](https://drive.google.com/file/d/1pbSReiGSIIlHHXbFBOAaA5zTlNTrbY9P/view?usp=sharing) como entrada para o processamento requerido nos seguintes exercícios.\n"
      ],
      "metadata": {
        "id": "hgqYfhU33FtF"
      }
    },
    {
      "cell_type": "code",
      "source": [],
      "metadata": {
        "id": "EK9X8wTZ3UdS"
      },
      "execution_count": null,
      "outputs": []
    },
    {
      "cell_type": "markdown",
      "source": [
        "Faça a concatenação das bases de dados livros.csv e livros_genero.csv e encontre qual o gênero de livro correspondente a cada livro."
      ],
      "metadata": {
        "id": "_ZjroKKB3WBx"
      }
    },
    {
      "cell_type": "code",
      "source": [],
      "metadata": {
        "id": "7dx7zW7M3Wau"
      },
      "execution_count": null,
      "outputs": []
    },
    {
      "cell_type": "markdown",
      "source": [
        "Faça a concatenação das bases de dados de livros e livros_genero e encontre qual os gêneros e os autores que não possuem um livro correspondente."
      ],
      "metadata": {
        "id": "sG2Kkkrd3X5V"
      }
    },
    {
      "cell_type": "code",
      "source": [],
      "metadata": {
        "id": "imgwaOGk3YNq"
      },
      "execution_count": null,
      "outputs": []
    },
    {
      "cell_type": "markdown",
      "source": [
        "Faça a junção das bases de livros e livros clássicos."
      ],
      "metadata": {
        "id": "72Oy_JJ_3Z7F"
      }
    },
    {
      "cell_type": "code",
      "source": [],
      "metadata": {
        "id": "YZFVy7UM3aPC"
      },
      "execution_count": null,
      "outputs": []
    },
    {
      "cell_type": "markdown",
      "source": [
        "Faça a junção das bases de livros e livros clássicos apenas com os elementos em comum entre ambos e remova os índices dos antigos dataframes."
      ],
      "metadata": {
        "id": "HORjiTk8ASUm"
      }
    },
    {
      "cell_type": "code",
      "source": [],
      "metadata": {
        "id": "h3QVJcJIASt6"
      },
      "execution_count": null,
      "outputs": []
    },
    {
      "cell_type": "markdown",
      "source": [
        "Faça a junção das bases de livros e livros clássicos apenas com os elementos comuns entre ambos, e adicione chaves para o dataframe de livros e de livros clássicos."
      ],
      "metadata": {
        "id": "kfa3BN55AUrX"
      }
    },
    {
      "cell_type": "code",
      "source": [],
      "metadata": {
        "id": "DvoUyayZAU-W"
      },
      "execution_count": null,
      "outputs": []
    },
    {
      "cell_type": "markdown",
      "source": [
        "Faça a junção das bases de livros e livros clássicos apenas com os elementos comuns entre ambos, e adicione chaves para o dataframe de livros e de livros clássicos, além de nomes para os índices."
      ],
      "metadata": {
        "id": "s7goRYyXAW-U"
      }
    },
    {
      "cell_type": "code",
      "source": [],
      "metadata": {
        "id": "XVEyWLV0AXP7"
      },
      "execution_count": null,
      "outputs": []
    },
    {
      "cell_type": "markdown",
      "source": [
        "Faça a junção das bases de dados livros e livros_classicos e verifique a integridade do dataframe resultante."
      ],
      "metadata": {
        "id": "m2sQjkbMAYzK"
      }
    },
    {
      "cell_type": "code",
      "source": [],
      "metadata": {
        "id": "MCFG5i38AZIf"
      },
      "execution_count": null,
      "outputs": []
    }
  ]
}